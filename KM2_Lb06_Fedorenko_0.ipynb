{
 "cells": [
  {
   "cell_type": "markdown",
   "metadata": {},
   "source": [
    "# Лабораторная работа 6"
   ]
  },
  {
   "cell_type": "markdown",
   "metadata": {},
   "source": [
    "# Выравнивание списка, состоящего из итерируемых объектов, на основе рекурсии\n"
   ]
  },
  {
   "cell_type": "markdown",
   "metadata": {},
   "source": [
    "Федоренко Алексей Жанович, 09.05.2025"
   ]
  },
  {
   "cell_type": "code",
   "execution_count": 35,
   "metadata": {},
   "outputs": [
    {
     "data": {
      "text/plain": [
       "3000"
      ]
     },
     "execution_count": 35,
     "metadata": {},
     "output_type": "execute_result"
    }
   ],
   "source": [
    "import sys\n",
    "sys.getrecursionlimit()"
   ]
  },
  {
   "cell_type": "code",
   "execution_count": 36,
   "metadata": {},
   "outputs": [
    {
     "data": {
      "text/plain": [
       "(0, 3, 55)"
      ]
     },
     "execution_count": 36,
     "metadata": {},
     "output_type": "execute_result"
    }
   ],
   "source": [
    "def sum(n):\n",
    "    \"\"\"суммирует числа от 0 до n>=0\"\"\"\n",
    "    match n:\n",
    "        case 0: return n # база рекурсии\n",
    "        case _: return n + sum(n-1)\n",
    "sum(0), sum(2), sum(10)"
   ]
  },
  {
   "cell_type": "code",
   "execution_count": 37,
   "metadata": {},
   "outputs": [
    {
     "data": {
      "text/plain": [
       "(0, 3, 55)"
      ]
     },
     "execution_count": 37,
     "metadata": {},
     "output_type": "execute_result"
    }
   ],
   "source": [
    "sum = lambda n: n + sum(n-1) if n else n\n",
    "sum(0), sum(2), sum(10)"
   ]
  },
  {
   "cell_type": "markdown",
   "metadata": {},
   "source": [
    "## Постановка задачи"
   ]
  },
  {
   "cell_type": "markdown",
   "metadata": {},
   "source": [
    "$\\color{red}{Напишите}$ пользовательскую функцию `flatten_it(nested_obj, gen)` выравнивания списка на основе рекурсии, которая для списка `nested_obj` , содержащего различные итерируемые объекты (строка, список, кортеж, множество, словарь), возвращает либо список из всех элементов итерируемых объектов без сохранения структуры итерируемых объектов, если `gen=False` , либо функция возвращает генераторный объект, если `gen=True` , который генерирует по запросу элементы итерируемых объектов при итерационном проходе по исходному списку."
   ]
  },
  {
   "cell_type": "markdown",
   "metadata": {},
   "source": [
    "## Задание 6.1. Выравнивание вложенных списков"
   ]
  },
  {
   "cell_type": "markdown",
   "metadata": {},
   "source": [
    "### Задание 6.1.1. Рекурсивная функция flatten_list_v1"
   ]
  },
  {
   "cell_type": "code",
   "execution_count": 38,
   "metadata": {},
   "outputs": [],
   "source": [
    "it_list = [[1],[2,[3]],[[[[[4]]]]],5,6,7]"
   ]
  },
  {
   "cell_type": "code",
   "execution_count": 39,
   "metadata": {},
   "outputs": [],
   "source": [
    "def flatten_list_v1(nested_obj):  #аргумент список \n",
    "    result = []  #результат выравненнного списка\n",
    "    if isinstance(nested_obj, list):  # объкт список?\n",
    "        for item in nested_obj:  # итерация по элементам списка\n",
    "            result += flatten_list_v1(item)  # для каждого элемента выравниваем его рекурсивно\n",
    "    else:\n",
    "        result += [nested_obj]  # если не список уже то добавляем в результат\n",
    "\n",
    "    return result  # возвращаем результат"
   ]
  },
  {
   "cell_type": "code",
   "execution_count": 40,
   "metadata": {},
   "outputs": [
    {
     "data": {
      "text/plain": [
       "[1, 2, 3, 4, 5, 6, 7]"
      ]
     },
     "execution_count": 40,
     "metadata": {},
     "output_type": "execute_result"
    }
   ],
   "source": [
    "flatten_list_v1(it_list)"
   ]
  },
  {
   "cell_type": "markdown",
   "metadata": {},
   "source": [
    "$\\color{red}\\text{Напишите комментарии}$ для каждой строки кода функции `flatten_list_v1` ."
   ]
  },
  {
   "cell_type": "markdown",
   "metadata": {},
   "source": [
    "### Задание 6.1.2. Генераторная функция на основе рекурсии flatten_list_v2"
   ]
  },
  {
   "cell_type": "markdown",
   "metadata": {},
   "source": [
    "$\\color{red}{Напишите}$ генераторную функцию `flatten_list_v2(nested_obj)` , которая выравнивает вложенный список и возвращает генератнорый объект для элементов вложенного списка"
   ]
  },
  {
   "cell_type": "code",
   "execution_count": 41,
   "metadata": {},
   "outputs": [],
   "source": [
    "def flatten_list_v2(nested_obj):\n",
    "    if isinstance(nested_obj, list):  # объкт список?\n",
    "        for item in nested_obj:       # итерация по элементам списка\n",
    "            yield from flatten_list_v2(item)  # для каждого элемента выравниваем его рекурсивно\n",
    "    else:\n",
    "        yield nested_obj  # если не список уже возвращаем его как один элемент"
   ]
  },
  {
   "cell_type": "code",
   "execution_count": 42,
   "metadata": {},
   "outputs": [
    {
     "data": {
      "text/plain": [
       "[1, 2, 3, 4, 5, 6, 7]"
      ]
     },
     "execution_count": 42,
     "metadata": {},
     "output_type": "execute_result"
    }
   ],
   "source": [
    "[x for x in flatten_list_v2(it_list)]"
   ]
  },
  {
   "cell_type": "markdown",
   "metadata": {},
   "source": [
    "$\\color{red}\\text{Предложите два варианта реализации}$ только с использованием yield (вариант 1) и с использованием yield from (вариант 2)."
   ]
  },
  {
   "cell_type": "code",
   "execution_count": 43,
   "metadata": {},
   "outputs": [],
   "source": [
    "def flatten_list_v2(nested_obj):\n",
    "    if isinstance(nested_obj, list):        # объкт список?\n",
    "        for item in nested_obj:              # итерация по элементам списка\n",
    "            for second in flatten_list_v2(item):  # для каждого элемента выравниваем его рекурсивно\n",
    "                yield second              #добавляем каждый элемент\n",
    "    else:\n",
    "        yield nested_obj                    # если не список уже возвращаем его как один элемент"
   ]
  },
  {
   "cell_type": "code",
   "execution_count": 44,
   "metadata": {},
   "outputs": [
    {
     "data": {
      "text/plain": [
       "[1, 2, 3, 4, 5, 6, 7]"
      ]
     },
     "execution_count": 44,
     "metadata": {},
     "output_type": "execute_result"
    }
   ],
   "source": [
    "[x for x in flatten_list_v2(it_list)]"
   ]
  },
  {
   "cell_type": "markdown",
   "metadata": {},
   "source": [
    "$\\color{red}\\text{Напишите комментарии}$ для каждой строки кода функции `flatten_list_v2` ."
   ]
  },
  {
   "cell_type": "markdown",
   "metadata": {},
   "source": [
    "### Задание 6.1.3. Функция flatten_list: создание, документирование, тестирование\n"
   ]
  },
  {
   "cell_type": "markdown",
   "metadata": {},
   "source": [
    "$\\color{red}\\text{Объедините}$ две пользовательские функции flatten_list_v1 и flatten_list_v2 в одну пользовательскую функцию flatten_list(nested_obj, gen) которая возвращает либо список из элементов вложенных списков без сохранения структуры, если `gen=False` , либо возвращает генераторный объект,\n",
    "если `gen=True` . Стандартным значением для аргумента gen является объект `False` ."
   ]
  },
  {
   "cell_type": "markdown",
   "metadata": {},
   "source": [
    "$\\color{red}{Напишите }$  строки документации для функции flatten_list ."
   ]
  },
  {
   "cell_type": "code",
   "execution_count": 45,
   "metadata": {},
   "outputs": [],
   "source": [
    "def flatten_list(nested_obj, gen=False):\n",
    "    \"\"\"\n",
    "    do: \n",
    "        Рекурсивно выравнивает вложенные списки, раскрывая их\n",
    "    Arguments:\n",
    "        - nested_obj : list -- Вложенный список  который нужно выравнять.\n",
    "        - gen : bool, optional -- Если True, функция вернет генератор. Если False (по умолчанию), возвращается обычный список.\n",
    "    Return:\n",
    "        list или generator\n",
    "    \"\"\"\n",
    "    if gen==True:\n",
    "        def func(nested_obj):\n",
    "            if isinstance(nested_obj, list):  # объкт список?\n",
    "                for item in nested_obj:       # итерация по элементам списка\n",
    "                    yield from flatten_list(item,True)  # для каждого элемента выравниваем его рекурсивно\n",
    "            else:\n",
    "                yield nested_obj  # если не список уже возвращаем его как один элемент\n",
    "        return func(nested_obj)\n",
    "    else:\n",
    "        result = []  #результат выравненнного списка\n",
    "        if isinstance(nested_obj, list):  # объкт список?\n",
    "            for item in nested_obj:  # итерация по элементам списка\n",
    "                result += flatten_list(item, False)  # для каждого элемента выравниваем его рекурсивно\n",
    "        else:\n",
    "            result += [nested_obj]  # если не список уже то добавляем в результат\n",
    "        return result  # возвращаем результат"
   ]
  },
  {
   "cell_type": "markdown",
   "metadata": {},
   "source": [
    "$\\color{red}\\text{Приведите три примера}$ вызова функции `flatten_list` для различных значений аргументов в предположении, что корректность вводимых данных гарантируется"
   ]
  },
  {
   "cell_type": "code",
   "execution_count": 46,
   "metadata": {},
   "outputs": [],
   "source": [
    "it_list=[[1], [2, [3]], [[[[[4]]]]], 5, 6, 7]"
   ]
  },
  {
   "cell_type": "code",
   "execution_count": 47,
   "metadata": {},
   "outputs": [
    {
     "name": "stdout",
     "output_type": "stream",
     "text": [
      "[1, 2, 3, 4, 5, 6, 7]\n"
     ]
    }
   ],
   "source": [
    "print(list(flatten_list(it_list,True)))"
   ]
  },
  {
   "cell_type": "code",
   "execution_count": 48,
   "metadata": {},
   "outputs": [
    {
     "name": "stdout",
     "output_type": "stream",
     "text": [
      "[1, 2, 3, 4, 5, 6, 7]\n"
     ]
    }
   ],
   "source": [
    "print(flatten_list(it_list,False))"
   ]
  },
  {
   "cell_type": "markdown",
   "metadata": {},
   "source": [
    "## Задание 6.2. Выравнивание вложенных итерируемых объектов произвольного типа\n"
   ]
  },
  {
   "cell_type": "code",
   "execution_count": 49,
   "metadata": {},
   "outputs": [
    {
     "data": {
      "text/plain": [
       "[[1], [2, [3]], [[[[[4]]]]], 5, 6, 7]"
      ]
     },
     "execution_count": 49,
     "metadata": {},
     "output_type": "execute_result"
    }
   ],
   "source": [
    "it_list"
   ]
  },
  {
   "cell_type": "code",
   "execution_count": 50,
   "metadata": {},
   "outputs": [],
   "source": [
    "it_tuple = (((7),(8)),(9),10)\n",
    "it_str = \"abcdefgh\"\n",
    "it_dict = {\"key1\": 11, \"key2\": {\"key3\": 12}}\n",
    "it_gen = ([i,i**2,i**3] for i in range(5))"
   ]
  },
  {
   "cell_type": "code",
   "execution_count": 51,
   "metadata": {},
   "outputs": [],
   "source": [
    "it = [it_list, it_tuple, it_str, it_dict, it_gen]"
   ]
  },
  {
   "cell_type": "code",
   "execution_count": 52,
   "metadata": {},
   "outputs": [
    {
     "data": {
      "text/plain": [
       "[True, True, True, True, True]"
      ]
     },
     "execution_count": 52,
     "metadata": {},
     "output_type": "execute_result"
    }
   ],
   "source": [
    "['__iter__' in dir(x) for x in it]"
   ]
  },
  {
   "cell_type": "code",
   "execution_count": 53,
   "metadata": {},
   "outputs": [
    {
     "data": {
      "text/plain": [
       "[True, True, True, True, True]"
      ]
     },
     "execution_count": 53,
     "metadata": {},
     "output_type": "execute_result"
    }
   ],
   "source": [
    "[hasattr(x, '__iter__') for x in it]"
   ]
  },
  {
   "cell_type": "code",
   "execution_count": 54,
   "metadata": {},
   "outputs": [
    {
     "name": "stdout",
     "output_type": "stream",
     "text": [
      "\u001b[1;31mSignature:\u001b[0m \u001b[0mhasattr\u001b[0m\u001b[1;33m(\u001b[0m\u001b[0mobj\u001b[0m\u001b[1;33m,\u001b[0m \u001b[0mname\u001b[0m\u001b[1;33m,\u001b[0m \u001b[1;33m/\u001b[0m\u001b[1;33m)\u001b[0m\u001b[1;33m\u001b[0m\u001b[1;33m\u001b[0m\u001b[0m\n",
      "\u001b[1;31mDocstring:\u001b[0m\n",
      "Return whether the object has an attribute with the given name.\n",
      "\n",
      "This is done by calling getattr(obj, name) and catching AttributeError.\n",
      "\u001b[1;31mType:\u001b[0m      builtin_function_or_method"
     ]
    }
   ],
   "source": [
    "?hasattr"
   ]
  },
  {
   "cell_type": "markdown",
   "metadata": {},
   "source": [
    "### Задание 6.2.1. Рекурсивная функция flatten_it_v1"
   ]
  },
  {
   "cell_type": "markdown",
   "metadata": {},
   "source": [
    "На основе функции flatten_list_v1(nested_obj) $\\color{red}\\text{напишите}$ пользовательскую функцию `flatten_it_v1(nested_obj)` одного аргумента, которая выравнивает вложенную структуру из различных итерируемых объектов и возвращает список содержащий только элементы без сохранения структуры.\\\n",
    "\\\n",
    "Для этого вместо проверки `isinstance(nested_obj, list)` будем использовать проверку на итерируемость объекта `hasattr(nested_obj, '__iter__')` .\\\n",
    "\\\n",
    "При этом дополнительно учтем, что если итерируемым объектом является\n",
    "- строка, то ее мы не итерируем;\n",
    "- словарь, то для его итерирования нужно выполнить дополнительные преобразования, чтобы осущесвить проход как по ключам, так и по значениям."
   ]
  },
  {
   "cell_type": "markdown",
   "metadata": {},
   "source": [
    "$\\color{red}\\text{Напишите комментарии}$ для каждой строки кода функции `flatten_list_v1` ."
   ]
  },
  {
   "cell_type": "code",
   "execution_count": 55,
   "metadata": {},
   "outputs": [],
   "source": [
    "def flatten_it_v1(nested_obj):\n",
    "    result = []\n",
    "    if hasattr(nested_obj, '__iter__'): # проверяем на итерируемость\n",
    "        if isinstance(nested_obj,str):  # проверяем строка ли\n",
    "            result.append(nested_obj)  # если строка то добавляем ее просто так \n",
    "        elif isinstance(nested_obj, dict):  # если словарь\n",
    "            for k, val in nested_obj.items():  # итерируемся по ключам и значениям\n",
    "                result += flatten_it_v1(k) # заносим в результат ключи \n",
    "                result += flatten_it_v1(val)  # заносим в результат  значения\n",
    "        else:                                 # если другие итерируемые типы данных\n",
    "            for item in nested_obj:        # проходим по элементам\n",
    "                result += flatten_it_v1(item) # рекурсивно вызываем функцию \n",
    "    else:\n",
    "        result += [nested_obj]      #  если не итерируемый уже то добавляем в результат\n",
    "    return result"
   ]
  },
  {
   "cell_type": "code",
   "execution_count": 56,
   "metadata": {},
   "outputs": [
    {
     "name": "stdout",
     "output_type": "stream",
     "text": [
      "[1, 2, 3, 4, 5, 6, 7]\n"
     ]
    }
   ],
   "source": [
    "print(flatten_it_v1(it_list))"
   ]
  },
  {
   "cell_type": "code",
   "execution_count": 57,
   "metadata": {},
   "outputs": [
    {
     "name": "stdout",
     "output_type": "stream",
     "text": [
      "[7, 8, 9, 10]\n"
     ]
    }
   ],
   "source": [
    "print(flatten_it_v1(it_tuple))"
   ]
  },
  {
   "cell_type": "code",
   "execution_count": 58,
   "metadata": {},
   "outputs": [
    {
     "name": "stdout",
     "output_type": "stream",
     "text": [
      "['abcdefgh']\n"
     ]
    }
   ],
   "source": [
    "print(flatten_it_v1(it_str))"
   ]
  },
  {
   "cell_type": "code",
   "execution_count": 59,
   "metadata": {},
   "outputs": [
    {
     "name": "stdout",
     "output_type": "stream",
     "text": [
      "[0, 0, 0, 1, 1, 1, 2, 4, 8, 3, 9, 27, 4, 16, 64]\n"
     ]
    }
   ],
   "source": [
    "print(flatten_it_v1(it_gen))"
   ]
  },
  {
   "cell_type": "code",
   "execution_count": 60,
   "metadata": {},
   "outputs": [
    {
     "name": "stdout",
     "output_type": "stream",
     "text": [
      "['key1', 11, 'key2', 'key3', 12]\n"
     ]
    }
   ],
   "source": [
    "print(flatten_it_v1(it_dict))"
   ]
  },
  {
   "cell_type": "markdown",
   "metadata": {},
   "source": [
    "### Задание 6.2.2. Генераторная функция на основе рекурсии flatten_it_v2"
   ]
  },
  {
   "cell_type": "markdown",
   "metadata": {},
   "source": [
    "На основе функций `flatten_it_v1` и `flatten_list_v2` $\\color{red}\\text{напишите}$ пользовательскую функцию `flatten_it_v2(nested_obj)` , которая выравнивает вложенную структуру из различных итерируемых объектов и возвращает генератнорый объект элементов без сохранения структуры."
   ]
  },
  {
   "cell_type": "markdown",
   "metadata": {},
   "source": [
    "$\\color{red}\\text{Напишите комментарии}$ для каждой строки кода функции `flatten_list_v2` ."
   ]
  },
  {
   "cell_type": "code",
   "execution_count": 61,
   "metadata": {},
   "outputs": [],
   "source": [
    "def flatten_list_v2(nested_obj):\n",
    "    if hasattr(nested_obj, '__iter__'): # проверяем на итерируемость\n",
    "        if isinstance(nested_obj,str):  # проверяем строка ли\n",
    "            yield nested_obj  # если строка то добавляем ее просто так \n",
    "        elif isinstance(nested_obj, dict):  # если словарь\n",
    "            for k, val in nested_obj.items():  # итерируемся по ключам и значениям\n",
    "                yield from flatten_list_v2(k) # заносим в результат ключи \n",
    "                yield from flatten_it_v1(val)  # заносим в результат  значения\n",
    "        else:                                 # если другие итерируемые типы данных\n",
    "            for item in nested_obj:        # проходим по элементам\n",
    "                yield from flatten_it_v1(item) # рекурсивно вызываем функцию \n",
    "    else:\n",
    "        yield nested_obj     #  если не итерируемый уже "
   ]
  },
  {
   "cell_type": "code",
   "execution_count": 62,
   "metadata": {},
   "outputs": [],
   "source": [
    "it_gen = ([i,i**2,i**3] for i in range(5))"
   ]
  },
  {
   "cell_type": "code",
   "execution_count": 63,
   "metadata": {},
   "outputs": [
    {
     "data": {
      "text/plain": [
       "[[1, 2, 3, 4, 5, 6, 7],\n",
       " [7, 8, 9, 10],\n",
       " ['abcdefgh'],\n",
       " ['key1', 11, 'key2', 'key3', 12]]"
      ]
     },
     "execution_count": 63,
     "metadata": {},
     "output_type": "execute_result"
    }
   ],
   "source": [
    "[list(flatten_list_v2(x)) for x in it[:-1]]"
   ]
  },
  {
   "cell_type": "code",
   "execution_count": 64,
   "metadata": {},
   "outputs": [
    {
     "data": {
      "text/plain": [
       "[0, 0, 0, 1, 1, 1, 2, 4, 8, 3, 9, 27, 4, 16, 64]"
      ]
     },
     "execution_count": 64,
     "metadata": {},
     "output_type": "execute_result"
    }
   ],
   "source": [
    "list(flatten_list_v2(it_gen))"
   ]
  },
  {
   "cell_type": "markdown",
   "metadata": {},
   "source": [
    "### Задание 6.2.3. Функция flatten_it: создание, документирование, тестирование"
   ]
  },
  {
   "cell_type": "markdown",
   "metadata": {},
   "source": [
    "$\\color{red}\\text{Объедините}$ две пользовательские функции `flatten_it_v1` и `flatten_it_v2` в одну функцию `flatten_it(nested_obj, gen)` , которая возвращает либо список из элементов вложенных объектов без сохранения структуры, если `gen=False` , либо возвращает генераторный объект, если `gen=True` . Стандартным значением для аргумента gen является объект `False` ."
   ]
  },
  {
   "cell_type": "markdown",
   "metadata": {},
   "source": [
    "$\\color{red}\\text{Напишите}$ строки документации для функции `flatten_it`"
   ]
  },
  {
   "cell_type": "code",
   "execution_count": 65,
   "metadata": {},
   "outputs": [],
   "source": [
    "def flatten_it(nested_obj, gen=False):\n",
    "    \"\"\"\n",
    "    do: \n",
    "        Рекурсивно выравнивает вложенные списки, раскрывая их\n",
    "    Arguments:\n",
    "        - nested_obj : итерируемый объект, который нужно выравнять.\n",
    "        - gen : bool, optional -- Если True, функция вернет генератор. Если False (по умолчанию), возвращается обычный список.\n",
    "    Return:\n",
    "        list или generator\n",
    "    \"\"\"\n",
    "    if gen==False:\n",
    "        result=[]\n",
    "        if hasattr(nested_obj, '__iter__'): # проверяем на итерируемость\n",
    "            if isinstance(nested_obj,str):  # проверяем строка ли\n",
    "                result.append(nested_obj)  # если строка то добавляем ее просто так \n",
    "            elif isinstance(nested_obj, dict):  # если словарь\n",
    "                for k, val in nested_obj.items():  # итерируемся по ключам и значениям\n",
    "                    result += flatten_it(k,False) # заносим в результат ключи \n",
    "                    result += flatten_it(val,False)  # заносим в результат  значения\n",
    "            else:                                 # если другие итерируемые типы данных\n",
    "                for item in nested_obj:        # проходим по элементам\n",
    "                    result += flatten_it(item,False) # рекурсивно вызываем функцию \n",
    "        else:\n",
    "            result.append(nested_obj)      #  если не итерируемый уже то добавляем в результат\n",
    "        return list(result)\n",
    "    else:\n",
    "        def flatten_list_v2(nested_obj):\n",
    "            if hasattr(nested_obj, '__iter__'): # проверяем на итерируемость\n",
    "                if isinstance(nested_obj,str):  # проверяем строка ли\n",
    "                    yield nested_obj  # если строка то добавляем ее просто так \n",
    "                elif isinstance(nested_obj, dict):  # если словарь\n",
    "                    for k, val in nested_obj.items():  # итерируемся по ключам и значениям\n",
    "                        yield from flatten_list_v2(k) # заносим в результат ключи \n",
    "                        yield from flatten_it_v1(val)  # заносим в результат  значения\n",
    "                else:                                 # если другие итерируемые типы данных\n",
    "                     for item in nested_obj:        # проходим по элементам\n",
    "                        yield from flatten_it_v1(item) # рекурсивно вызываем функцию \n",
    "            else:\n",
    "                yield nested_obj     #  если не итерируемый уже \n",
    "    return list(flatten_list_v2(nested_obj))"
   ]
  },
  {
   "cell_type": "markdown",
   "metadata": {},
   "source": [
    "$\\color{red}\\text{Приведите три примера}$ вызова функции `flatten_it` для различных значений аргументов в предположении, что корректность вводимых данных гарантируется"
   ]
  },
  {
   "cell_type": "code",
   "execution_count": 66,
   "metadata": {},
   "outputs": [
    {
     "name": "stdout",
     "output_type": "stream",
     "text": [
      "[7, 8, 9, 10]\n"
     ]
    }
   ],
   "source": [
    "print(flatten_it(it_tuple, True))"
   ]
  },
  {
   "cell_type": "code",
   "execution_count": 67,
   "metadata": {},
   "outputs": [
    {
     "name": "stdout",
     "output_type": "stream",
     "text": [
      "['key1', 11, 'key2', 'key3', 12]\n"
     ]
    }
   ],
   "source": [
    "print(flatten_it(it_dict))"
   ]
  },
  {
   "cell_type": "code",
   "execution_count": 68,
   "metadata": {},
   "outputs": [
    {
     "name": "stdout",
     "output_type": "stream",
     "text": [
      "['abcdefgh'] [1, 2, 3, 4, 5, 6, 7]\n"
     ]
    }
   ],
   "source": [
    "print(flatten_it(it_str), list(flatten_it(it_list,True)))"
   ]
  },
  {
   "cell_type": "markdown",
   "metadata": {},
   "source": [
    "## Задание 6.3. Обработка циклических объектов"
   ]
  },
  {
   "cell_type": "code",
   "execution_count": 69,
   "metadata": {},
   "outputs": [],
   "source": [
    "it_list_cyclic = it_list[:]\n",
    "it_list_cyclic.append(it_list_cyclic)"
   ]
  },
  {
   "cell_type": "code",
   "execution_count": 70,
   "metadata": {},
   "outputs": [
    {
     "data": {
      "text/plain": [
       "[[1], [2, [3]], [[[[[4]]]]], 5, 6, 7, [...]]"
      ]
     },
     "execution_count": 70,
     "metadata": {},
     "output_type": "execute_result"
    }
   ],
   "source": [
    "it_list_cyclic"
   ]
  },
  {
   "cell_type": "code",
   "execution_count": 71,
   "metadata": {},
   "outputs": [],
   "source": [
    "def flatten_list_v1(nested_obj):\n",
    "    result = []\n",
    "    if isinstance(nested_obj,list):\n",
    "        for item in nested_obj:\n",
    "            if item is nested_obj:\n",
    "                raise ValueError(\"Cyclic list is found\") # генерация исключения\n",
    "            else:\n",
    "                result += flatten_list_v1(item)\n",
    "    else:\n",
    "        result += [nested_obj]\n",
    "    return result"
   ]
  },
  {
   "cell_type": "code",
   "execution_count": 72,
   "metadata": {},
   "outputs": [
    {
     "data": {
      "text/plain": [
       "[1, 2, 3, 4, 5, 6, 7]"
      ]
     },
     "execution_count": 72,
     "metadata": {},
     "output_type": "execute_result"
    }
   ],
   "source": [
    "flatten_list_v1(it_list)"
   ]
  },
  {
   "cell_type": "code",
   "execution_count": 73,
   "metadata": {},
   "outputs": [
    {
     "ename": "ValueError",
     "evalue": "Cyclic list is found",
     "output_type": "error",
     "traceback": [
      "\u001b[1;31m---------------------------------------------------------------------------\u001b[0m",
      "\u001b[1;31mValueError\u001b[0m                                Traceback (most recent call last)",
      "Cell \u001b[1;32mIn[73], line 1\u001b[0m\n\u001b[1;32m----> 1\u001b[0m flatten_list_v1(it_list_cyclic)\n",
      "Cell \u001b[1;32mIn[71], line 6\u001b[0m, in \u001b[0;36mflatten_list_v1\u001b[1;34m(nested_obj)\u001b[0m\n\u001b[0;32m      4\u001b[0m \u001b[38;5;28;01mfor\u001b[39;00m item \u001b[38;5;129;01min\u001b[39;00m nested_obj:\n\u001b[0;32m      5\u001b[0m     \u001b[38;5;28;01mif\u001b[39;00m item \u001b[38;5;129;01mis\u001b[39;00m nested_obj:\n\u001b[1;32m----> 6\u001b[0m         \u001b[38;5;28;01mraise\u001b[39;00m \u001b[38;5;167;01mValueError\u001b[39;00m(\u001b[38;5;124m\"\u001b[39m\u001b[38;5;124mCyclic list is found\u001b[39m\u001b[38;5;124m\"\u001b[39m) \u001b[38;5;66;03m# генерация исключения\u001b[39;00m\n\u001b[0;32m      7\u001b[0m     \u001b[38;5;28;01melse\u001b[39;00m:\n\u001b[0;32m      8\u001b[0m         result \u001b[38;5;241m+\u001b[39m\u001b[38;5;241m=\u001b[39m flatten_list_v1(item)\n",
      "\u001b[1;31mValueError\u001b[0m: Cyclic list is found"
     ]
    }
   ],
   "source": [
    "flatten_list_v1(it_list_cyclic)"
   ]
  },
  {
   "cell_type": "code",
   "execution_count": null,
   "metadata": {},
   "outputs": [
    {
     "name": "stdout",
     "output_type": "stream",
     "text": [
      "Cyclic list is found\n"
     ]
    }
   ],
   "source": [
    "try:\n",
    " print(flatten_list_v1(it_list_cyclic))\n",
    "except ValueError as e:\n",
    " print(e)"
   ]
  },
  {
   "cell_type": "markdown",
   "metadata": {},
   "source": [
    "### Задание 6.3.1. Доопределение функции flatten_it"
   ]
  },
  {
   "cell_type": "markdown",
   "metadata": {},
   "source": [
    "$\\color{red}\\text{Доопределите}$ пользовательскую функцию flatten_it из Задания 6.2, добавив генерацию исключения ValueError с помощью оператора raise при обработке циклических списков и циклических словарей.\n"
   ]
  },
  {
   "cell_type": "code",
   "execution_count": null,
   "metadata": {},
   "outputs": [],
   "source": [
    "def flatten_it(nested_obj, gen=False):\n",
    "    \"\"\"\n",
    "    do: \n",
    "        Рекурсивно выравнивает вложенные списки, раскрывая их\n",
    "    Arguments:\n",
    "        - nested_obj : итерируемый объект, который нужно выравнять.\n",
    "        - gen : bool, optional -- Если True, функция вернет генератор. Если False (по умолчанию), возвращается обычный список.\n",
    "    Return:\n",
    "        list или generator\n",
    "    \"\"\"\n",
    "    if gen:\n",
    "        for item in nested_obj:\n",
    "            if item is nested_obj:\n",
    "                raise ValueError(\"Cyclic element is found\")\n",
    "        def flatten_list_v2(nested_obj):\n",
    "            if hasattr(nested_obj, '__iter__'): # проверяем на итерируемость\n",
    "                if isinstance(nested_obj,str):  # проверяем строка ли\n",
    "                    yield nested_obj  # если строка то добавляем ее просто так \n",
    "                elif isinstance(nested_obj, dict):  # если словарь\n",
    "                    for k, val in nested_obj.items():  # итерируемся по ключам и значениям\n",
    "                        yield from flatten_list_v2(k) # заносим в результат ключи \n",
    "                        yield from flatten_it_v1(val)  # заносим в результат  значения\n",
    "                else:                                 # если другие итерируемые типы данных\n",
    "                     for item in nested_obj:        # проходим по элементам\n",
    "                        yield from flatten_it_v1(item) # рекурсивно вызываем функцию \n",
    "            else:\n",
    "                yield nested_obj     #  если не итерируемый уже \n",
    "        return list(flatten_list_v2(nested_obj))\n",
    "    else:\n",
    "        for item in nested_obj:\n",
    "            if item is nested_obj:\n",
    "                raise ValueError(\"Cyclic element is found\")\n",
    "        result=[]\n",
    "        if hasattr(nested_obj, '__iter__'): # проверяем на итерируемость\n",
    "            if isinstance(nested_obj,str):  # проверяем строка ли\n",
    "                result.append(nested_obj)  # если строка то добавляем ее просто так \n",
    "            elif isinstance(nested_obj, dict):  # если словарь\n",
    "                for k, val in nested_obj.items():  # итерируемся по ключам и значениям\n",
    "                    result += flatten_it(k,False) # заносим в результат ключи \n",
    "                    result += flatten_it(val,False)  # заносим в результат  значения\n",
    "            else:                                 # если другие итерируемые типы данных\n",
    "                for item in nested_obj:        # проходим по элементам\n",
    "                    result += flatten_it_v1(item) # рекурсивно вызываем функцию \n",
    "        else:\n",
    "            result.append(nested_obj)      #  если не итерируемый уже то добавляем в результат\n",
    "        return result"
   ]
  },
  {
   "cell_type": "code",
   "execution_count": null,
   "metadata": {},
   "outputs": [
    {
     "ename": "ValueError",
     "evalue": "Cyclic element is found",
     "output_type": "error",
     "traceback": [
      "\u001b[1;31m---------------------------------------------------------------------------\u001b[0m",
      "\u001b[1;31mValueError\u001b[0m                                Traceback (most recent call last)",
      "Cell \u001b[1;32mIn[377], line 1\u001b[0m\n\u001b[1;32m----> 1\u001b[0m \u001b[38;5;28mlist\u001b[39m(flatten_it(it_list_cyclic,\u001b[38;5;28;01mTrue\u001b[39;00m))\n",
      "Cell \u001b[1;32mIn[376], line 14\u001b[0m, in \u001b[0;36mflatten_it\u001b[1;34m(nested_obj, gen)\u001b[0m\n\u001b[0;32m     12\u001b[0m \u001b[38;5;28;01mfor\u001b[39;00m item \u001b[38;5;129;01min\u001b[39;00m nested_obj:\n\u001b[0;32m     13\u001b[0m     \u001b[38;5;28;01mif\u001b[39;00m item \u001b[38;5;129;01mis\u001b[39;00m nested_obj:\n\u001b[1;32m---> 14\u001b[0m         \u001b[38;5;28;01mraise\u001b[39;00m \u001b[38;5;167;01mValueError\u001b[39;00m(\u001b[38;5;124m\"\u001b[39m\u001b[38;5;124mCyclic element is found\u001b[39m\u001b[38;5;124m\"\u001b[39m)\n\u001b[0;32m     15\u001b[0m \u001b[38;5;28;01mdef\u001b[39;00m \u001b[38;5;21mflatten_list_v2\u001b[39m(nested_obj):\n\u001b[0;32m     16\u001b[0m     \u001b[38;5;28;01mif\u001b[39;00m \u001b[38;5;28mhasattr\u001b[39m(nested_obj, \u001b[38;5;124m'\u001b[39m\u001b[38;5;124m__iter__\u001b[39m\u001b[38;5;124m'\u001b[39m): \u001b[38;5;66;03m# проверяем на итерируемость\u001b[39;00m\n",
      "\u001b[1;31mValueError\u001b[0m: Cyclic element is found"
     ]
    }
   ],
   "source": [
    "list(flatten_it(it_list_cyclic,True))"
   ]
  },
  {
   "cell_type": "markdown",
   "metadata": {},
   "source": [
    "### Задание 6.3.2. Тестирование функции flatten_it"
   ]
  },
  {
   "cell_type": "markdown",
   "metadata": {},
   "source": [
    "$\\color{red}\\text{Протестируйте}$ функцию `flatten_it` , перехватывая исключение ValueError с помощью операторов try / except для циклических объектов различных типов"
   ]
  },
  {
   "cell_type": "code",
   "execution_count": null,
   "metadata": {},
   "outputs": [
    {
     "name": "stdout",
     "output_type": "stream",
     "text": [
      "Cyclic element is found\n"
     ]
    }
   ],
   "source": [
    "try:\n",
    " print(list(flatten_it(it_list_cyclic,True)))\n",
    "except ValueError as e:\n",
    " print(e)"
   ]
  }
 ],
 "metadata": {
  "kernelspec": {
   "display_name": "base",
   "language": "python",
   "name": "python3"
  },
  "language_info": {
   "codemirror_mode": {
    "name": "ipython",
    "version": 3
   },
   "file_extension": ".py",
   "mimetype": "text/x-python",
   "name": "python",
   "nbconvert_exporter": "python",
   "pygments_lexer": "ipython3",
   "version": "3.12.7"
  }
 },
 "nbformat": 4,
 "nbformat_minor": 2
}
