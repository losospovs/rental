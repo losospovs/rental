{
 "cells": [
  {
   "cell_type": "markdown",
   "metadata": {},
   "source": [
    "# Лабораторная работа 6"
   ]
  },
  {
   "cell_type": "markdown",
   "metadata": {},
   "source": [
    "# Выравнивание списка, состоящего из итерируемых объектов, на основе рекурсии\n"
   ]
  },
  {
   "cell_type": "markdown",
   "metadata": {},
   "source": [
    "Федоренко Алексей Жанович, 09.05.2025"
   ]
  },
  {
   "cell_type": "code",
   "execution_count": 474,
   "metadata": {},
   "outputs": [
    {
     "data": {
      "text/plain": [
       "3000"
      ]
     },
     "execution_count": 474,
     "metadata": {},
     "output_type": "execute_result"
    }
   ],
   "source": [
    "import sys\n",
    "sys.getrecursionlimit()"
   ]
  },
  {
   "cell_type": "code",
   "execution_count": 475,
   "metadata": {},
   "outputs": [
    {
     "data": {
      "text/plain": [
       "(0, 3, 55)"
      ]
     },
     "execution_count": 475,
     "metadata": {},
     "output_type": "execute_result"
    }
   ],
   "source": [
    "def sum(n):\n",
    "    \"\"\"суммирует числа от 0 до n>=0\"\"\"\n",
    "    match n:\n",
    "        case 0: return n # база рекурсии\n",
    "        case _: return n + sum(n-1)\n",
    "sum(0), sum(2), sum(10)"
   ]
  },
  {
   "cell_type": "code",
   "execution_count": 476,
   "metadata": {},
   "outputs": [
    {
     "data": {
      "text/plain": [
       "(0, 3, 55)"
      ]
     },
     "execution_count": 476,
     "metadata": {},
     "output_type": "execute_result"
    }
   ],
   "source": [
    "sum = lambda n: n + sum(n-1) if n else n\n",
    "sum(0), sum(2), sum(10)"
   ]
  },
  {
   "cell_type": "markdown",
   "metadata": {},
   "source": [
    "## Постановка задачи"
   ]
  },
  {
   "cell_type": "markdown",
   "metadata": {},
   "source": [
    "$\\color{red}{Напишите}$ пользовательскую функцию `flatten_it(nested_obj, gen)` выравнивания списка на основе рекурсии, которая для списка `nested_obj` , содержащего различные итерируемые объекты (строка, список, кортеж, множество, словарь), возвращает либо список из всех элементов итерируемых объектов без сохранения структуры итерируемых объектов, если `gen=False` , либо функция возвращает генераторный объект, если `gen=True` , который генерирует по запросу элементы итерируемых объектов при итерационном проходе по исходному списку."
   ]
  },
  {
   "cell_type": "markdown",
   "metadata": {},
   "source": [
    "## Задание 6.1. Выравнивание вложенных списков"
   ]
  },
  {
   "cell_type": "markdown",
   "metadata": {},
   "source": [
    "### Задание 6.1.1. Рекурсивная функция flatten_list_v1"
   ]
  },
  {
   "cell_type": "code",
   "execution_count": 477,
   "metadata": {},
   "outputs": [],
   "source": [
    "it_list = [[1],[2,[3]],[[[[[4]]]]],5,6,7]"
   ]
  },
  {
   "cell_type": "code",
   "execution_count": 478,
   "metadata": {},
   "outputs": [],
   "source": [
    "def flatten_list_v1(nested_obj):  #аргумент список \n",
    "    result = []  #результат выравненнного списка\n",
    "    if isinstance(nested_obj, list):  # объкт список?\n",
    "        for item in nested_obj:  # итерация по элементам списка\n",
    "            result += flatten_list_v1(item)  # для каждого элемента выравниваем его рекурсивно\n",
    "    else:\n",
    "        result += [nested_obj]  # если не список уже то добавляем в результат\n",
    "\n",
    "    return result  # возвращаем результат"
   ]
  },
  {
   "cell_type": "code",
   "execution_count": 479,
   "metadata": {},
   "outputs": [
    {
     "data": {
      "text/plain": [
       "[1, 2, 3, 4, 5, 6, 7]"
      ]
     },
     "execution_count": 479,
     "metadata": {},
     "output_type": "execute_result"
    }
   ],
   "source": [
    "flatten_list_v1(it_list)"
   ]
  },
  {
   "cell_type": "markdown",
   "metadata": {},
   "source": [
    "$\\color{red}\\text{Напишите комментарии}$ для каждой строки кода функции `flatten_list_v1` ."
   ]
  },
  {
   "cell_type": "markdown",
   "metadata": {},
   "source": [
    "### Задание 6.1.2. Генераторная функция на основе рекурсии flatten_list_v2"
   ]
  },
  {
   "cell_type": "markdown",
   "metadata": {},
   "source": [
    "$\\color{red}{Напишите}$ генераторную функцию `flatten_list_v2(nested_obj)` , которая выравнивает вложенный список и возвращает генератнорый объект для элементов вложенного списка"
   ]
  },
  {
   "cell_type": "code",
   "execution_count": 480,
   "metadata": {},
   "outputs": [],
   "source": [
    "def flatten_list_v2(nested_obj):\n",
    "    if isinstance(nested_obj, list):        # объкт список?\n",
    "        for item in nested_obj:              # итерация по элементам списка\n",
    "            for second in flatten_list_v2(item):  # для каждого элемента выравниваем его рекурсивно\n",
    "                yield second              #возвращаем каждый элемент\n",
    "    else:\n",
    "        yield nested_obj                    # если не список уже возвращаем его как один элемент"
   ]
  },
  {
   "cell_type": "code",
   "execution_count": 481,
   "metadata": {},
   "outputs": [
    {
     "data": {
      "text/plain": [
       "[1, 2, 3, 4, 5, 6, 7]"
      ]
     },
     "execution_count": 481,
     "metadata": {},
     "output_type": "execute_result"
    }
   ],
   "source": [
    "[x for x in flatten_list_v2(it_list)]"
   ]
  },
  {
   "cell_type": "markdown",
   "metadata": {},
   "source": [
    "$\\color{red}\\text{Предложите два варианта реализации}$ только с использованием `yield` (вариант 1) и с использованием `yield from` (вариант 2)."
   ]
  },
  {
   "cell_type": "code",
   "execution_count": 482,
   "metadata": {},
   "outputs": [],
   "source": [
    "def flatten_list_v2(nested_obj):\n",
    "    if isinstance(nested_obj, list):  # объкт список?\n",
    "        for item in nested_obj:       # итерация по элементам списка\n",
    "            yield from flatten_list_v2(item)  # для каждого элемента выравниваем его рекурсивно\n",
    "    else:\n",
    "        yield nested_obj  # если не список уже возвращаем его как один элемент"
   ]
  },
  {
   "cell_type": "code",
   "execution_count": 483,
   "metadata": {},
   "outputs": [
    {
     "data": {
      "text/plain": [
       "[1, 2, 3, 4, 5, 6, 7]"
      ]
     },
     "execution_count": 483,
     "metadata": {},
     "output_type": "execute_result"
    }
   ],
   "source": [
    "[x for x in flatten_list_v2(it_list)]"
   ]
  },
  {
   "cell_type": "markdown",
   "metadata": {},
   "source": [
    "$\\color{red}\\text{Напишите комментарии}$ для каждой строки кода функции `flatten_list_v2` ."
   ]
  },
  {
   "cell_type": "markdown",
   "metadata": {},
   "source": [
    "### Задание 6.1.3. Функция flatten_list: создание, документирование, тестирование\n"
   ]
  },
  {
   "cell_type": "markdown",
   "metadata": {},
   "source": [
    "$\\color{red}\\text{Объедините}$ две пользовательские функции `flatten_list_v1` и `flatten_list_v2` в одну пользовательскую функцию `flatten_list(nested_obj, gen)` которая возвращает либо список из элементов вложенных списков без сохранения структуры, если `gen=False` , либо возвращает генераторный объект,\n",
    "если `gen=True` . Стандартным значением для аргумента gen является объект `False` ."
   ]
  },
  {
   "cell_type": "markdown",
   "metadata": {},
   "source": [
    "$\\color{red}{Напишите }$  строки документации для функции flatten_list ."
   ]
  },
  {
   "cell_type": "code",
   "execution_count": 484,
   "metadata": {},
   "outputs": [],
   "source": [
    "def flatten_list(nested_obj, gen=False):\n",
    "    \"\"\"\n",
    "    do: Рекурсивно выравнивает вложенные списки, раскрывая их\n",
    "    Arguments:\n",
    "        - nested_obj : list -- Вложенный список  который нужно выравнять.\n",
    "        - gen : bool, optional -- Если True, функция вернет генератор. Если False (по умолчанию), возвращается обычный список.\n",
    "    Return: list или generator\n",
    "    \"\"\"\n",
    "    if gen==True:\n",
    "        def func(nested_obj):\n",
    "            if isinstance(nested_obj, list):  # объкт список?\n",
    "                for item in nested_obj:       # итерация по элементам списка\n",
    "                    yield from flatten_list(item,True)  # для каждого элемента выравниваем его рекурсивно\n",
    "            else:\n",
    "                yield nested_obj  # если не список уже возвращаем его как один элемент\n",
    "        return func(nested_obj)\n",
    "    else:\n",
    "        result = []  #результат выравненнного списка\n",
    "        if isinstance(nested_obj, list):  # объкт список?\n",
    "            for item in nested_obj:  # итерация по элементам списка\n",
    "                result += flatten_list(item, False)  # для каждого элемента выравниваем его рекурсивно\n",
    "        else:\n",
    "            result += [nested_obj]  # если не список уже то добавляем в результат\n",
    "        return result  # возвращаем результат"
   ]
  },
  {
   "cell_type": "markdown",
   "metadata": {},
   "source": [
    "$\\color{red}\\text{Приведите три примера}$ вызова функции `flatten_list` для различных значений аргументов в предположении, что корректность вводимых данных гарантируется"
   ]
  },
  {
   "cell_type": "code",
   "execution_count": 485,
   "metadata": {},
   "outputs": [],
   "source": [
    "it_list=[[1], [2, [3]], [[[[[4]]]]], 5, 6, 7]"
   ]
  },
  {
   "cell_type": "code",
   "execution_count": 486,
   "metadata": {},
   "outputs": [
    {
     "name": "stdout",
     "output_type": "stream",
     "text": [
      "[1, 2, 3, 4, 5, 6, 7]\n"
     ]
    }
   ],
   "source": [
    "print(list(flatten_list(it_list,True)))"
   ]
  },
  {
   "cell_type": "code",
   "execution_count": 487,
   "metadata": {},
   "outputs": [
    {
     "name": "stdout",
     "output_type": "stream",
     "text": [
      "[1, 2, 3, 4, 5, 6, 7]\n"
     ]
    }
   ],
   "source": [
    "print(flatten_list(it_list,False))"
   ]
  },
  {
   "cell_type": "code",
   "execution_count": 488,
   "metadata": {},
   "outputs": [
    {
     "name": "stdout",
     "output_type": "stream",
     "text": [
      "[1, 2, 3]\n"
     ]
    }
   ],
   "source": [
    "print(list(flatten_list([[[[[[[[[1,2,[[[[[[[[3]]]]]]]]]]]]]]]]],True)))"
   ]
  },
  {
   "cell_type": "markdown",
   "metadata": {},
   "source": [
    "## Задание 6.2. Выравнивание вложенных итерируемых объектов произвольного типа\n"
   ]
  },
  {
   "cell_type": "code",
   "execution_count": 489,
   "metadata": {},
   "outputs": [
    {
     "data": {
      "text/plain": [
       "[[1], [2, [3]], [[[[[4]]]]], 5, 6, 7]"
      ]
     },
     "execution_count": 489,
     "metadata": {},
     "output_type": "execute_result"
    }
   ],
   "source": [
    "it_list"
   ]
  },
  {
   "cell_type": "code",
   "execution_count": 490,
   "metadata": {},
   "outputs": [],
   "source": [
    "it_tuple = (((7),(8)),(9),10)\n",
    "it_str = \"abcdefgh\"\n",
    "it_dict = {\"key1\": 11, \"key2\": {\"key3\": 12}}\n",
    "it_gen = ([i,i**2,i**3] for i in range(5))"
   ]
  },
  {
   "cell_type": "code",
   "execution_count": 491,
   "metadata": {},
   "outputs": [],
   "source": [
    "it = [it_list, it_tuple, it_str, it_dict, it_gen]"
   ]
  },
  {
   "cell_type": "code",
   "execution_count": 492,
   "metadata": {},
   "outputs": [
    {
     "data": {
      "text/plain": [
       "[True, True, True, True, True]"
      ]
     },
     "execution_count": 492,
     "metadata": {},
     "output_type": "execute_result"
    }
   ],
   "source": [
    "['__iter__' in dir(x) for x in it]"
   ]
  },
  {
   "cell_type": "code",
   "execution_count": 493,
   "metadata": {},
   "outputs": [
    {
     "data": {
      "text/plain": [
       "[True, True, True, True, True]"
      ]
     },
     "execution_count": 493,
     "metadata": {},
     "output_type": "execute_result"
    }
   ],
   "source": [
    "[hasattr(x, '__iter__') for x in it]"
   ]
  },
  {
   "cell_type": "code",
   "execution_count": 494,
   "metadata": {},
   "outputs": [
    {
     "name": "stdout",
     "output_type": "stream",
     "text": [
      "\u001b[31mSignature:\u001b[39m hasattr(obj, name, /)\n",
      "\u001b[31mDocstring:\u001b[39m\n",
      "Return whether the object has an attribute with the given name.\n",
      "\n",
      "This is done by calling getattr(obj, name) and catching AttributeError.\n",
      "\u001b[31mType:\u001b[39m      builtin_function_or_method"
     ]
    }
   ],
   "source": [
    "?hasattr"
   ]
  },
  {
   "cell_type": "markdown",
   "metadata": {},
   "source": [
    "### Задание 6.2.1. Рекурсивная функция flatten_it_v1"
   ]
  },
  {
   "cell_type": "markdown",
   "metadata": {},
   "source": [
    "На основе функции `flatten_list_v1(nested_obj)` $\\color{red}\\text{напишите}$ пользовательскую функцию `flatten_it_v1(nested_obj)` одного аргумента, которая выравнивает вложенную структуру из различных итерируемых объектов и возвращает список содержащий только элементы без сохранения структуры.\\\n",
    "\\\n",
    "Для этого вместо проверки `isinstance(nested_obj, list)` будем использовать проверку на итерируемость объекта `hasattr(nested_obj, '__iter__')` .\\\n",
    "\\\n",
    "При этом дополнительно учтем, что если итерируемым объектом является\n",
    "- строка, то ее мы не итерируем;\n",
    "- словарь, то для его итерирования нужно выполнить дополнительные преобразования, чтобы осущесвить проход как по ключам, так и по значениям."
   ]
  },
  {
   "cell_type": "markdown",
   "metadata": {},
   "source": [
    "$\\color{red}\\text{Напишите комментарии}$ для каждой строки кода функции `flatten_list_v1` ."
   ]
  },
  {
   "cell_type": "code",
   "execution_count": 495,
   "metadata": {},
   "outputs": [],
   "source": [
    "def flatten_it_v1(nested_obj):\n",
    "    result = []\n",
    "    if hasattr(nested_obj, '__iter__'): # проверяем на итерируемость\n",
    "        if isinstance(nested_obj,str):  # проверяем строка ли\n",
    "            result.append(nested_obj)  # если строка то добавляем ее просто так \n",
    "        elif isinstance(nested_obj, dict):  # если словарь\n",
    "            for k, val in nested_obj.items():  # итерируемся по ключам и значениям\n",
    "                result += flatten_it_v1(k) # заносим в результат ключи \n",
    "                result += flatten_it_v1(val)  # заносим в результат  значения\n",
    "        else:                                 # если другие итерируемые типы данных\n",
    "            for item in nested_obj:        # проходим по элементам\n",
    "                result += flatten_it_v1(item) # рекурсивно вызываем функцию \n",
    "    else:\n",
    "        result += [nested_obj]      #  если не итерируемый уже то добавляем в результат\n",
    "    return result"
   ]
  },
  {
   "cell_type": "code",
   "execution_count": 496,
   "metadata": {},
   "outputs": [
    {
     "name": "stdout",
     "output_type": "stream",
     "text": [
      "list - [[1], [2, [3]], [[[[[4]]]]], 5, 6, 7] ==> [1, 2, 3, 4, 5, 6, 7]\n",
      "tuple - ((7, 8), 9, 10) ==> [7, 8, 9, 10]\n",
      "string - abcdefgh ==> ['abcdefgh']\n",
      "generator - ==> [0, 0, 0, 1, 1, 1, 2, 4, 8, 3, 9, 27, 4, 16, 64]\n",
      "dict - {'key1': 11, 'key2': {'key3': 12}} ==> ['key1', 11, 'key2', 'key3', 12]\n"
     ]
    }
   ],
   "source": [
    "(print(f'list - {it_list} ==> {flatten_it_v1(it_list)}\\n'\n",
    "    f'tuple - {it_tuple} ==> {flatten_it_v1(it_tuple)}\\n'\n",
    "    f'string - {it_str} ==> {flatten_it_v1(it_str)}\\n'\n",
    "    f'generator - ==> {flatten_it_v1(it_gen)}\\n'\n",
    "    f'dict - {it_dict} ==> {flatten_it_v1(it_dict)}'       ))"
   ]
  },
  {
   "cell_type": "markdown",
   "metadata": {},
   "source": [
    "### Задание 6.2.2. Генераторная функция на основе рекурсии flatten_it_v2"
   ]
  },
  {
   "cell_type": "markdown",
   "metadata": {},
   "source": [
    "На основе функций `flatten_it_v1` и `flatten_list_v2` $\\color{red}\\text{напишите}$ пользовательскую функцию `flatten_it_v2(nested_obj)` , которая выравнивает вложенную структуру из различных итерируемых объектов и возвращает генератнорый объект элементов без сохранения структуры."
   ]
  },
  {
   "cell_type": "markdown",
   "metadata": {},
   "source": [
    "$\\color{red}\\text{Напишите комментарии}$ для каждой строки кода функции `flatten_list_v2` ."
   ]
  },
  {
   "cell_type": "code",
   "execution_count": 497,
   "metadata": {},
   "outputs": [],
   "source": [
    "def flatten_list_v2(nested_obj):\n",
    "    if hasattr(nested_obj, '__iter__'): # проверяем на итерируемость\n",
    "        if isinstance(nested_obj,str):  # проверяем строка ли\n",
    "            yield nested_obj  # если строка то добавляем ее просто так \n",
    "        elif isinstance(nested_obj, dict):  # если словарь\n",
    "            for k, val in nested_obj.items():  # итерируемся по ключам и значениям\n",
    "                yield from flatten_list_v2(k) # заносим в результат ключи \n",
    "                yield from flatten_list_v2(val)  # заносим в результат  значения\n",
    "        else:                                 # если другие итерируемые типы данных\n",
    "            for item in nested_obj:        # проходим по элементам\n",
    "                yield from flatten_list_v2(item) # рекурсивно вызываем функцию \n",
    "    else:\n",
    "        yield nested_obj     #  если не итерируемый уже "
   ]
  },
  {
   "cell_type": "code",
   "execution_count": 498,
   "metadata": {},
   "outputs": [
    {
     "name": "stdout",
     "output_type": "stream",
     "text": [
      "list - [[1], [2, [3]], [[[[[4]]]]], 5, 6, 7] ==> [1, 2, 3, 4, 5, 6, 7]\n",
      "tuple - ((7, 8), 9, 10) ==> [7, 8, 9, 10]\n",
      "string - abcdefgh ==> ['abcdefgh']\n",
      "generator -  ==> [0, 0, 0, 1, 1, 1, 2, 4, 8, 3, 9, 27, 4, 16, 64]\n",
      "dict - {'key1': 11, 'key2': {'key3': 12}} ==> ['key1', 11, 'key2', 'key3', 12]\n"
     ]
    }
   ],
   "source": [
    "it_gen = ([i,i**2,i**3] for i in range(5))\n",
    "(print(f'list - {it_list} ==> {list(flatten_list_v2(it_list))}\\n'\n",
    "    f'tuple - {it_tuple} ==> {list(flatten_list_v2(it_tuple))}\\n'\n",
    "    f'string - {it_str} ==> {list(flatten_list_v2(it_str))}\\n'\n",
    "    f'generator -  ==> {list(flatten_list_v2(it_gen))}\\n'\n",
    "    f'dict - {it_dict} ==> {list(flatten_list_v2(it_dict))}'))"
   ]
  },
  {
   "cell_type": "markdown",
   "metadata": {},
   "source": [
    "### Задание 6.2.3. Функция flatten_it: создание, документирование, тестирование"
   ]
  },
  {
   "cell_type": "markdown",
   "metadata": {},
   "source": [
    "$\\color{red}\\text{Объедините}$ две пользовательские функции `flatten_it_v1` и `flatten_it_v2` в одну функцию `flatten_it(nested_obj, gen)` , которая возвращает либо список из элементов вложенных объектов без сохранения структуры, если `gen=False` , либо возвращает генераторный объект, если `gen=True` . Стандартным значением для аргумента gen является объект `False` ."
   ]
  },
  {
   "cell_type": "markdown",
   "metadata": {},
   "source": [
    "$\\color{red}\\text{Напишите}$ строки документации для функции `flatten_it`"
   ]
  },
  {
   "cell_type": "code",
   "execution_count": 499,
   "metadata": {},
   "outputs": [],
   "source": [
    "def flatten_it(nested_obj, gen=False):\n",
    "    \"\"\"\n",
    "    do: \n",
    "        Рекурсивно выравнивает вложенные списки, раскрывая их\n",
    "    Arguments:\n",
    "        - nested_obj : итерируемый объект, который нужно выравнять.\n",
    "        - gen : bool, optional -- Если True, функция вернет генератор. Если False (по умолчанию), возвращается обычный список.\n",
    "    Return:\n",
    "        list или generator\n",
    "    \"\"\"\n",
    "    if gen==False:\n",
    "        result=[]\n",
    "        if hasattr(nested_obj, '__iter__'): # проверяем на итерируемость\n",
    "            if isinstance(nested_obj,str):  # проверяем строка ли\n",
    "                result.append(nested_obj)  # если строка то добавляем ее просто так \n",
    "            elif isinstance(nested_obj, dict):  # если словарь\n",
    "                for k, val in nested_obj.items():  # итерируемся по ключам и значениям\n",
    "                    result += flatten_it(k,False) # заносим в результат ключи \n",
    "                    result += flatten_it(val,False)  # заносим в результат  значения\n",
    "            else:                                 # если другие итерируемые типы данных\n",
    "                for item in nested_obj:        # проходим по элементам\n",
    "                    result += flatten_it(item,False) # рекурсивно вызываем функцию \n",
    "        else:\n",
    "            result.append(nested_obj)      #  если не итерируемый уже то добавляем в результат\n",
    "        return result\n",
    "    else:\n",
    "        def flatten_list_v2(nested_obj):\n",
    "            if hasattr(nested_obj, '__iter__'): # проверяем на итерируемость\n",
    "                if isinstance(nested_obj,str):  # проверяем строка ли\n",
    "                    yield nested_obj  # если строка то добавляем ее просто так \n",
    "                elif isinstance(nested_obj, dict):  # если словарь\n",
    "                    for k, val in nested_obj.items():  # итерируемся по ключам и значениям\n",
    "                        yield from flatten_list_v2(k) # заносим в результат ключи \n",
    "                        yield from flatten_list_v2(val)  # заносим в результат  значения\n",
    "                else:                                 # если другие итерируемые типы данных\n",
    "                     for item in nested_obj:        # проходим по элементам\n",
    "                        yield from flatten_list_v2(item) # рекурсивно вызываем функцию \n",
    "            else:\n",
    "                yield nested_obj     #  если не итерируемый уже \n",
    "    return flatten_list_v2(nested_obj)"
   ]
  },
  {
   "cell_type": "markdown",
   "metadata": {},
   "source": [
    "$\\color{red}\\text{Приведите три примера}$ вызова функции `flatten_it` для различных значений аргументов в предположении, что корректность вводимых данных гарантируется"
   ]
  },
  {
   "cell_type": "code",
   "execution_count": 500,
   "metadata": {},
   "outputs": [
    {
     "name": "stdout",
     "output_type": "stream",
     "text": [
      "[7, 8, 9, 10]\n"
     ]
    }
   ],
   "source": [
    "print(list(flatten_it(it_tuple, True)))"
   ]
  },
  {
   "cell_type": "code",
   "execution_count": 501,
   "metadata": {},
   "outputs": [
    {
     "name": "stdout",
     "output_type": "stream",
     "text": [
      "['key1', 11, 'key2', 'key3', 12]\n"
     ]
    }
   ],
   "source": [
    "print(flatten_it(it_dict))"
   ]
  },
  {
   "cell_type": "code",
   "execution_count": 502,
   "metadata": {},
   "outputs": [
    {
     "name": "stdout",
     "output_type": "stream",
     "text": [
      "['abcdefgh'] [1, 2, 3, 4, 5, 6, 7]\n"
     ]
    }
   ],
   "source": [
    "print(flatten_it(it_str), list(flatten_it(it_list,True)))"
   ]
  },
  {
   "cell_type": "markdown",
   "metadata": {},
   "source": [
    "## Задание 6.3. Обработка циклических объектов"
   ]
  },
  {
   "cell_type": "code",
   "execution_count": 503,
   "metadata": {},
   "outputs": [],
   "source": [
    "it_list_cyclic = it_list[:]\n",
    "it_list_cyclic.append(it_list_cyclic)"
   ]
  },
  {
   "cell_type": "code",
   "execution_count": 504,
   "metadata": {},
   "outputs": [
    {
     "data": {
      "text/plain": [
       "[[1], [2, [3]], [[[[[4]]]]], 5, 6, 7, [...]]"
      ]
     },
     "execution_count": 504,
     "metadata": {},
     "output_type": "execute_result"
    }
   ],
   "source": [
    "it_list_cyclic"
   ]
  },
  {
   "cell_type": "code",
   "execution_count": 505,
   "metadata": {},
   "outputs": [],
   "source": [
    "def flatten_list_v1(nested_obj):\n",
    "    result = []\n",
    "    if isinstance(nested_obj,list):\n",
    "        for item in nested_obj:\n",
    "            if item is nested_obj:\n",
    "                raise ValueError(\"Cyclic list is found\") # генерация исключения\n",
    "            else:\n",
    "                result += flatten_list_v1(item)\n",
    "    else:\n",
    "        result += [nested_obj]\n",
    "    return result"
   ]
  },
  {
   "cell_type": "code",
   "execution_count": 506,
   "metadata": {},
   "outputs": [
    {
     "data": {
      "text/plain": [
       "[1, 2, 3, 4, 5, 6, 7]"
      ]
     },
     "execution_count": 506,
     "metadata": {},
     "output_type": "execute_result"
    }
   ],
   "source": [
    "flatten_list_v1(it_list)"
   ]
  },
  {
   "cell_type": "code",
   "execution_count": 507,
   "metadata": {},
   "outputs": [
    {
     "ename": "ValueError",
     "evalue": "Cyclic list is found",
     "output_type": "error",
     "traceback": [
      "\u001b[31m---------------------------------------------------------------------------\u001b[39m",
      "\u001b[31mValueError\u001b[39m                                Traceback (most recent call last)",
      "\u001b[36mCell\u001b[39m\u001b[36m \u001b[39m\u001b[32mIn[507]\u001b[39m\u001b[32m, line 1\u001b[39m\n\u001b[32m----> \u001b[39m\u001b[32m1\u001b[39m \u001b[43mflatten_list_v1\u001b[49m\u001b[43m(\u001b[49m\u001b[43mit_list_cyclic\u001b[49m\u001b[43m)\u001b[49m\n",
      "\u001b[36mCell\u001b[39m\u001b[36m \u001b[39m\u001b[32mIn[505]\u001b[39m\u001b[32m, line 6\u001b[39m, in \u001b[36mflatten_list_v1\u001b[39m\u001b[34m(nested_obj)\u001b[39m\n\u001b[32m      4\u001b[39m \u001b[38;5;28;01mfor\u001b[39;00m item \u001b[38;5;129;01min\u001b[39;00m nested_obj:\n\u001b[32m      5\u001b[39m     \u001b[38;5;28;01mif\u001b[39;00m item \u001b[38;5;129;01mis\u001b[39;00m nested_obj:\n\u001b[32m----> \u001b[39m\u001b[32m6\u001b[39m         \u001b[38;5;28;01mraise\u001b[39;00m \u001b[38;5;167;01mValueError\u001b[39;00m(\u001b[33m\"\u001b[39m\u001b[33mCyclic list is found\u001b[39m\u001b[33m\"\u001b[39m) \u001b[38;5;66;03m# генерация исключения\u001b[39;00m\n\u001b[32m      7\u001b[39m     \u001b[38;5;28;01melse\u001b[39;00m:\n\u001b[32m      8\u001b[39m         result += flatten_list_v1(item)\n",
      "\u001b[31mValueError\u001b[39m: Cyclic list is found"
     ]
    }
   ],
   "source": [
    "flatten_list_v1(it_list_cyclic)"
   ]
  },
  {
   "cell_type": "code",
   "execution_count": null,
   "metadata": {},
   "outputs": [
    {
     "name": "stdout",
     "output_type": "stream",
     "text": [
      "Cyclic list is found\n"
     ]
    }
   ],
   "source": [
    "try:\n",
    " print(flatten_list_v1(it_list_cyclic))\n",
    "except ValueError as e:\n",
    " print(e)"
   ]
  },
  {
   "cell_type": "markdown",
   "metadata": {},
   "source": [
    "### Задание 6.3.1. Доопределение функции flatten_it"
   ]
  },
  {
   "cell_type": "markdown",
   "metadata": {},
   "source": [
    "$\\color{red}\\text{Доопределите}$ пользовательскую функцию `flatten_it` из Задания 6.2, добавив генерацию исключения `ValueError` с помощью оператора `raise` при обработке циклических списков и циклических словарей.\n"
   ]
  },
  {
   "cell_type": "code",
   "execution_count": null,
   "metadata": {},
   "outputs": [],
   "source": [
    "import types\n",
    "def flatten_it(nested_obj, gen=False):\n",
    "    \"\"\"\n",
    "    do: \n",
    "        Рекурсивно выравнивает вложенные списки, раскрывая их\n",
    "    Arguments:\n",
    "        - nested_obj : итерируемый объект, который нужно выравнять.\n",
    "        - gen : bool, optional -- Если True, функция вернет генератор. Если False (по умолчанию), возвращается обычный список.\n",
    "    Return:\n",
    "        list или generator\n",
    "    \"\"\"\n",
    "    if gen:\n",
    "        \n",
    "        def flatten_list_v2(nested_obj):\n",
    "            if hasattr(nested_obj, '__iter__'): # проверяем на итерируемость\n",
    "                if isinstance(nested_obj,types.GeneratorType)==False:\n",
    "                    for item in nested_obj:\n",
    "                        if item is nested_obj:\n",
    "                            raise ValueError(\"Cyclic element is found\")\n",
    "                if isinstance(nested_obj,str):  # проверяем строка ли\n",
    "                    yield nested_obj  # если строка то добавляем ее просто так \n",
    "                elif isinstance(nested_obj, dict):  # если словарь\n",
    "                    for k, val in nested_obj.items():  # итерируемся по ключам и значениям\n",
    "                        yield from flatten_list_v2(k) # заносим в результат ключи \n",
    "                        yield from flatten_list_v2(val)  # заносим в результат  значения\n",
    "                else:                                 # если другие итерируемые типы данных\n",
    "                     for item in nested_obj:        # проходим по элементам\n",
    "                        yield from flatten_list_v2(item) # рекурсивно вызываем функцию \n",
    "            else:\n",
    "                yield nested_obj     #  если не итерируемый уже \n",
    "        return flatten_list_v2(nested_obj)\n",
    "    else:\n",
    "        \n",
    "        result=[]\n",
    "        if hasattr(nested_obj, '__iter__'): # проверяем на итерируемость\n",
    "            if isinstance(nested_obj,types.GeneratorType)==False:\n",
    "                    for item in nested_obj:\n",
    "                        if item is nested_obj:\n",
    "                            raise ValueError(\"Cyclic element is found\")\n",
    "            if isinstance(nested_obj,str):  # проверяем строка ли\n",
    "                result.append(nested_obj)  # если строка то добавляем ее просто так \n",
    "            elif isinstance(nested_obj, dict):  # если словарь\n",
    "                for k, val in nested_obj.items():  # итерируемся по ключам и значениям\n",
    "                    result += flatten_it(k,False) # заносим в результат ключи \n",
    "                    result += flatten_it(val,False)  # заносим в результат  значения\n",
    "            else:                                 # если другие итерируемые типы данных\n",
    "                for item in nested_obj:        # проходим по элементам\n",
    "                    result += flatten_it(item,False) # рекурсивно вызываем функцию \n",
    "        else:\n",
    "            result.append(nested_obj)      #  если не итерируемый уже то добавляем в результат\n",
    "        return result"
   ]
  },
  {
   "cell_type": "code",
   "execution_count": null,
   "metadata": {},
   "outputs": [
    {
     "ename": "ValueError",
     "evalue": "Cyclic element is found",
     "output_type": "error",
     "traceback": [
      "\u001b[31m---------------------------------------------------------------------------\u001b[39m",
      "\u001b[31mValueError\u001b[39m                                Traceback (most recent call last)",
      "\u001b[36mCell\u001b[39m\u001b[36m \u001b[39m\u001b[32mIn[466]\u001b[39m\u001b[32m, line 1\u001b[39m\n\u001b[32m----> \u001b[39m\u001b[32m1\u001b[39m \u001b[38;5;28;43mlist\u001b[39;49m\u001b[43m(\u001b[49m\u001b[43mflatten_it\u001b[49m\u001b[43m(\u001b[49m\u001b[43mit_list_cyclic\u001b[49m\u001b[43m,\u001b[49m\u001b[38;5;28;43;01mTrue\u001b[39;49;00m\u001b[43m)\u001b[49m\u001b[43m)\u001b[49m\n",
      "\u001b[36mCell\u001b[39m\u001b[36m \u001b[39m\u001b[32mIn[465]\u001b[39m\u001b[32m, line 19\u001b[39m, in \u001b[36mflatten_it.<locals>.flatten_list_v2\u001b[39m\u001b[34m(nested_obj)\u001b[39m\n\u001b[32m     17\u001b[39m     \u001b[38;5;28;01mfor\u001b[39;00m item \u001b[38;5;129;01min\u001b[39;00m nested_obj:\n\u001b[32m     18\u001b[39m         \u001b[38;5;28;01mif\u001b[39;00m item \u001b[38;5;129;01mis\u001b[39;00m nested_obj:\n\u001b[32m---> \u001b[39m\u001b[32m19\u001b[39m             \u001b[38;5;28;01mraise\u001b[39;00m \u001b[38;5;167;01mValueError\u001b[39;00m(\u001b[33m\"\u001b[39m\u001b[33mCyclic element is found\u001b[39m\u001b[33m\"\u001b[39m)\n\u001b[32m     20\u001b[39m \u001b[38;5;28;01mif\u001b[39;00m \u001b[38;5;28misinstance\u001b[39m(nested_obj,\u001b[38;5;28mstr\u001b[39m):  \u001b[38;5;66;03m# проверяем строка ли\u001b[39;00m\n\u001b[32m     21\u001b[39m     \u001b[38;5;28;01myield\u001b[39;00m nested_obj  \u001b[38;5;66;03m# если строка то добавляем ее просто так \u001b[39;00m\n",
      "\u001b[31mValueError\u001b[39m: Cyclic element is found"
     ]
    }
   ],
   "source": [
    "list(flatten_it(it_list_cyclic,True))"
   ]
  },
  {
   "cell_type": "markdown",
   "metadata": {},
   "source": [
    "### Задание 6.3.2. Тестирование функции flatten_it"
   ]
  },
  {
   "cell_type": "markdown",
   "metadata": {},
   "source": [
    "$\\color{red}\\text{Протестируйте}$ функцию `flatten_it` , перехватывая исключение ValueError с помощью операторов try / except для циклических объектов различных типов"
   ]
  },
  {
   "cell_type": "code",
   "execution_count": null,
   "metadata": {},
   "outputs": [
    {
     "name": "stdout",
     "output_type": "stream",
     "text": [
      "Cyclic element is found\n"
     ]
    }
   ],
   "source": [
    "try:\n",
    " print(list(flatten_it(it_list_cyclic,True)))\n",
    "except ValueError as e:\n",
    " print(e)"
   ]
  },
  {
   "cell_type": "code",
   "execution_count": null,
   "metadata": {},
   "outputs": [
    {
     "name": "stdout",
     "output_type": "stream",
     "text": [
      "Cyclic element is found\n"
     ]
    }
   ],
   "source": [
    "test_cyclic = {'a' : 1}\n",
    "test_cyclic['b'] = {2 : test_cyclic}\n",
    "try:\n",
    " print(list(flatten_it(test_cyclic,True)))\n",
    "except RecursionError as e:\n",
    " print(e)\n",
    "except ValueError as e:\n",
    " print(e)"
   ]
  },
  {
   "cell_type": "markdown",
   "metadata": {},
   "source": [
    "#### Additional tests"
   ]
  },
  {
   "cell_type": "code",
   "execution_count": null,
   "metadata": {},
   "outputs": [
    {
     "name": "stdout",
     "output_type": "stream",
     "text": [
      "list - [[1], [2, [3]], [[[[[4]]]]], 5, 6, 7] ==> [1, 2, 3, 4, 5, 6, 7]\n",
      "tuple - ((7, 8), 9, 10) ==> [7, 8, 9, 10]\n",
      "string - abcdefgh ==> ['abcdefgh']\n",
      "generator  ==> [0, 0, 0, 1, 1, 1, 2, 4, 8, 3, 9, 27, 4, 16, 64]\n",
      "dict - {'key1': 11, 'key2': {'key3': 12}} ==> ['key1', 11, 'key2', 'key3', 12]\n"
     ]
    }
   ],
   "source": [
    "it_gen = ([i,i**2,i**3] for i in range(5))\n",
    "(print(f'list - {it_list} ==> {list(flatten_it(it_list,True))}\\n'\n",
    "    f'tuple - {it_tuple} ==> {list(flatten_it(it_tuple,True))}\\n'\n",
    "    f'string - {it_str} ==> {list(flatten_it(it_str,True))}\\n'\n",
    "    f'generator  ==> {list(flatten_it(it_gen,True))}\\n'\n",
    "    f'dict - {it_dict} ==> {list(flatten_it(it_dict,True))}'))"
   ]
  },
  {
   "cell_type": "code",
   "execution_count": null,
   "metadata": {},
   "outputs": [
    {
     "name": "stdout",
     "output_type": "stream",
     "text": [
      "list - [[1], [2, [3]], [[[[[4]]]]], 5, 6, 7] ==> [1, 2, 3, 4, 5, 6, 7]\n",
      "tuple - ((7, 8), 9, 10) ==> [7, 8, 9, 10]\n",
      "string - abcdefgh ==> ['abcdefgh']\n",
      "generator - ==> [0, 0, 0, 1, 1, 1, 2, 4, 8, 3, 9, 27, 4, 16, 64]\n",
      "dict - {'key1': 11, 'key2': {'key3': 12}} ==> ['key1', 11, 'key2', 'key3', 12]\n"
     ]
    }
   ],
   "source": [
    "it_gen = ([i,i**2,i**3] for i in range(5))\n",
    "print(f'list - {it_list} ==> {flatten_it(it_list)}\\n'\n",
    "    f'tuple - {it_tuple} ==> {flatten_it(it_tuple)}\\n'\n",
    "    f'string - {it_str} ==> {flatten_it(it_str)}\\n'\n",
    "    f'generator - ==> {flatten_it(it_gen)}\\n'\n",
    "    f'dict - {it_dict} ==> {flatten_it(it_dict)}' )"
   ]
  }
 ],
 "metadata": {
  "kernelspec": {
   "display_name": "Python 3",
   "language": "python",
   "name": "python3"
  },
  "language_info": {
   "codemirror_mode": {
    "name": "ipython",
    "version": 3
   },
   "file_extension": ".py",
   "mimetype": "text/x-python",
   "name": "python",
   "nbconvert_exporter": "python",
   "pygments_lexer": "ipython3",
   "version": "3.13.3"
  }
 },
 "nbformat": 4,
 "nbformat_minor": 2
}
