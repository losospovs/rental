{
 "cells": [
  {
   "cell_type": "markdown",
   "id": "268df03e",
   "metadata": {},
   "source": [
    "# Лабароторная работа 1"
   ]
  },
  {
   "cell_type": "markdown",
   "id": "e11a1917",
   "metadata": {},
   "source": [
    "# Задача о падении тела. Построение графиков функций"
   ]
  },
  {
   "cell_type": "markdown",
   "id": "baad50f4",
   "metadata": {},
   "source": [
    "Федоренко Алексей Жанович, 14.02.2025"
   ]
  },
  {
   "cell_type": "markdown",
   "id": "cb4d1b6b",
   "metadata": {},
   "source": [
    "**Описание процесса**."
   ]
  },
  {
   "cell_type": "markdown",
   "id": "c1ef98f5",
   "metadata": {},
   "source": [
    "Тело запущено под углом $\\alpha$ к горизонту на высоте $h_{start}$ и через\n",
    "время $t=T$ достигает другое тело, расположенное на расстоянии $s_{end}$ и\n",
    "высоте $h_{end}$. "
   ]
  },
  {
   "cell_type": "markdown",
   "id": "ad6932e2",
   "metadata": {},
   "source": [
    "**Предположения**."
   ]
  },
  {
   "cell_type": "markdown",
   "id": "2989c35a",
   "metadata": {},
   "source": [
    "- Тело будем считать материальной точкой массы $m$.\n",
    "- Движение запущенного тела осуществляется только под действием силы тяжести $${\\bf F} = m (0,-g),$$ где $m$ — масса тела, $g$ — ускорение\n",
    "свободного падения.\n",
    "- Сопротивлением среды пренебрегаем"
   ]
  },
  {
   "cell_type": "markdown",
   "id": "55bad71e",
   "metadata": {},
   "source": [
    "**Данные**.\n"
   ]
  },
  {
   "cell_type": "markdown",
   "id": "821813a1",
   "metadata": {},
   "source": [
    "- Задача рассматривается при следующих значениях параметров: *$h_{start} = 1 m$, $h_{end} = 3 m$, $T = 3s$, $s_{end}=5s$*.\n",
    "- Угол запуска $\\alpha$ тела не известен.\n",
    "- Начальный момент времени движения тела полагаем равным нулю: $t=0$.\n",
    "- Значение массы тела *$m$* не повлияет на функции перемещения тела."
   ]
  },
  {
   "cell_type": "markdown",
   "id": "51aeb503",
   "metadata": {},
   "source": [
    "$$\\color{red}\\text{Определите функцию перемещения тела $(s_{x}(t),s_{y}(t))$ под\n",
    "действием силы тяжести, где $s_{x}(t)$ и $ s_{y}(t)$ — горизонтальная и вертикальная\n",
    "составляющая положения тела в момент времени , соответственно.}$$"
   ]
  },
  {
   "cell_type": "markdown",
   "id": "d1bd9f20",
   "metadata": {},
   "source": [
    "$$\\color{red}\\text{Найдите угол запуска тела $\\alpha$}$$"
   ]
  },
  {
   "cell_type": "markdown",
   "id": "5ee4912e",
   "metadata": {},
   "source": [
    "$$\\color{red}\\text{Постройте график траектории движения тела $(s_{x}(t),s_{y}(t))$ для $t\\in[0,t]$ }$$"
   ]
  },
  {
   "cell_type": "markdown",
   "id": "9fd8a03c-d7d1-4517-8ef8-25b9ac28e609",
   "metadata": {},
   "source": [
    "# Задание 1.1. Задача о падении тела"
   ]
  },
  {
   "cell_type": "markdown",
   "id": "f63773b5-fd07-43a1-8def-87b71b06de7b",
   "metadata": {},
   "source": [
    "## Импортирование модулей "
   ]
  },
  {
   "cell_type": "code",
   "execution_count": 2,
   "id": "d08c2ffb-10f3-4ace-adee-8cc673bd5103",
   "metadata": {},
   "outputs": [],
   "source": [
    "import math\n",
    "import numpy as np\n",
    "import matplotlib.pyplot as plt\n",
    "import scipy.constants as const\n",
    "import sympy"
   ]
  },
  {
   "cell_type": "markdown",
   "id": "135a664f-ce09-4ae9-99be-3b7bac471a3b",
   "metadata": {},
   "source": [
    "## Создание переменных"
   ]
  },
  {
   "cell_type": "code",
   "execution_count": 3,
   "id": "f4547bc4-d99b-48c4-89c0-c556c039a62a",
   "metadata": {},
   "outputs": [],
   "source": [
    "h_start=1 #начальная высота при запуске\n",
    "h_end=3.0e+0 #конечная высота тела\n",
    "T=3.0 #время полета \n",
    "s_end=5.0e0 #горизонтальное перемещение тела"
   ]
  },
  {
   "cell_type": "code",
   "execution_count": 4,
   "id": "2b0babbc-2b71-44a3-ace2-e7d7b5c5c972",
   "metadata": {},
   "outputs": [
    {
     "data": {
      "text/plain": [
       "(9.80665, 'm s^-2')"
      ]
     },
     "execution_count": 4,
     "metadata": {},
     "output_type": "execute_result"
    }
   ],
   "source": [
    "g=const.g # ускорение свободного падения\n",
    "g, const.unit('standard acceleration of gravity')"
   ]
  },
  {
   "cell_type": "markdown",
   "id": "456d472b-d83f-4ebf-a19b-eb53d691d064",
   "metadata": {},
   "source": [
    "$$\\color{red}\\text{Примеры констант (2 шт.)}$$"
   ]
  },
  {
   "cell_type": "code",
   "execution_count": 5,
   "id": "b3e99141-20fa-4d34-8d43-282206889fdb",
   "metadata": {},
   "outputs": [
    {
     "data": {
      "text/plain": [
       "(299792458.0, 'm s^-1')"
      ]
     },
     "execution_count": 5,
     "metadata": {},
     "output_type": "execute_result"
    }
   ],
   "source": [
    "speed=const.c #скорость света в вакууме\n",
    "speed,const.unit('speed of light in vacuum')"
   ]
  },
  {
   "cell_type": "code",
   "execution_count": 6,
   "id": "ab811cf8-245f-4616-9070-f902e6f6358a",
   "metadata": {},
   "outputs": [
    {
     "data": {
      "text/plain": [
       "(1.67262192369e-27, 'kg')"
      ]
     },
     "execution_count": 6,
     "metadata": {},
     "output_type": "execute_result"
    }
   ],
   "source": [
    "proton=const.m_p #масса протона\n",
    "proton,const.unit('proton mass')"
   ]
  },
  {
   "cell_type": "code",
   "execution_count": 7,
   "id": "e9c9dfd8-5c36-4a24-a36c-d17ca35c5084",
   "metadata": {},
   "outputs": [],
   "source": [
    "step=0.01 #шаг между значениями t\n",
    "t_list=[0+i*step for i in range(int(T/step))] #список значений t\n",
    "t_array=np.arange(0,T,step) #массив значений t"
   ]
  },
  {
   "cell_type": "markdown",
   "id": "552a706f-fe5c-4f6b-8da6-c48e1850945b",
   "metadata": {},
   "source": [
    "$$\\color{red}\\text{Спецификации функций $range$ и $arange$}$$"
   ]
  },
  {
   "cell_type": "markdown",
   "id": "a114092e",
   "metadata": {},
   "source": [
    "``range(start,stop,decrement)``\\\n",
    "- Cоздает последовательность (список) целых чисел от начала (включительно)\n",
    "до конца (не включительно) .\\\n",
    "``range(i, j)`` даёт ``i, i+1, i+2,..., j-1``\n",
    "- начальное значение по умолчанию равно 0\\\n",
    "``range(4)`` даёт ``0, 1, 2, 3``\n",
    "- Когда задан шаг, он определяет приращение (декремент)\\\n",
    "``range(1,8,2)`` даёт ``1, 3, 5 ,7 ``"
   ]
  },
  {
   "cell_type": "markdown",
   "id": "ed0b6c20",
   "metadata": {},
   "source": [
    "``arange(start,stop, decrement)``\\\n",
    "Cоздает последовательность (массив) целых чисел от начала (включительно)\n",
    "до конца (не включительно) .\\\n",
    " (принцип работы такой как и у range)\\\n",
    "  размерность массива потом не поменять\n",
    "\n"
   ]
  },
  {
   "cell_type": "markdown",
   "id": "e01fc28a-43ad-4a06-9418-6e56a8e2a8c6",
   "metadata": {},
   "source": [
    "## Определение функции перемещения и нахождение угла запуска тела"
   ]
  },
  {
   "cell_type": "markdown",
   "id": "aaa27095-9a83-4289-ba14-50b0e2411a69",
   "metadata": {},
   "source": [
    "Полагаем, что начало прямоугольной декартовой системы координат соответствует\n",
    "уровню земли. Тогда в начальный момент движения тела $t=0$ имеем, что $$s_{x}(0)=0, s_{y}(0)=h_{start}.$$ Для построения функции перемещения $(s_{x}(t),s_{y}(t))$ воспользуемся вторым \n",
    "законом Ньютона$$ma=F,$$ где $m$ — масса тела, ускорение движения тела $a=(s''_{x}(t),s''_{y}(t))$ и приложенная \n",
    "сила . В результате имеем два уравнения,что $$s''_{x}(t)=0, s''_{y}(t)=-g.$$ На основании уравнений с учётом начальных условий можно записать\n",
    "аналитический вид для функци $s_{x}(t),s_{y}(t)$ $$s_{x}(t)=s_{x}(0)+v0_{x}t=v0_{x}t$$ $$s_{y}(t)=s_{y}(0)+v0_{y}t-\\frac{g}{2}t^2=h_{start}+v0_{y}t-\\frac{g}{2}t^2,$$ где $v0=(v0_{x},v0_{y})$ обозначает неизвестную скорость движения тела в начальный момент времени $t=0$."
   ]
  },
  {
   "cell_type": "markdown",
   "id": "6e851055",
   "metadata": {},
   "source": [
    "$$\\color{red}\\text{Как из второго закона Ньютона и начальных условий получена функция $(s_{x}(t),s_{y}(t))$}$$"
   ]
  },
  {
   "cell_type": "markdown",
   "id": "93ac1d17",
   "metadata": {},
   "source": [
    "1. Второй закон Ньютона для каждой координаты исходя из того что вторая производная это ускорение:$$m  s''_{x}(t) = 0 \\iff s''_{x}(t) = 0$$ $$m  s''_{y}(t) = -mg \\iff s''_{y}(t) = -g$$\n",
    "2. Интегрируем в первый раз: $$s'_{x}(t) = ∫0 dt = C_{1}$$ $$s'_{y}(t) = ∫-g dt = -gt + C_{2}$$\n",
    " где $C_{1}$ равна начальной скорости по оси Х $(v0_{x})$ , а $C_{2}$ - начальной скорости по оси Y $(v0_{y})$\n",
    "3. Интегрируем во второй раз: $$s_{x}(t) = ∫v0_{x} dt = v0_{x}  t + C_{3}$$ $$s_{y}(t) = ∫(-gt + v0y_{y}) dt = -\\frac{g t^2}{2} + v0_{y}  t + C_{4}$$ \n",
    "4. По условию, в момент времени $t=0$: $s_{x}(0) = 0$ и $s_{y}(0) = h_{start}$.\\\n",
    " Значит $$s_{x}(0) = v0_{x} \\times 0 + C_{2} = 0 \\iff C_{2} = 0$$ $$s_{y}(0) =  -\\frac{g\\times 0^2}{2} + v0_{y}  \\times0 + C_{4} = h_{start} \\iff C_{4} = h_{start}$$\n",
    "5. Записываем финальные уравнения с учётом $C_{1}$ и $C_{2}$: $$s_{x}(t) = v0_{x}t$$ $$s_{y}(t) = h_{start} + v0_{y} t-\\frac{g t^2}{2} $$"
   ]
  },
  {
   "cell_type": "code",
   "execution_count": 8,
   "id": "85de7df2-dbd5-4e35-9cdf-ba8d59efeab8",
   "metadata": {},
   "outputs": [
    {
     "data": {
      "text/plain": [
       "1.6666666666666667"
      ]
     },
     "execution_count": 8,
     "metadata": {},
     "output_type": "execute_result"
    }
   ],
   "source": [
    "v0_x=s_end/T #находим горизонтальную скорость\n",
    "v0_x"
   ]
  },
  {
   "cell_type": "code",
   "execution_count": 9,
   "id": "9b8d683e-4a32-4384-a54e-4937ce62606a",
   "metadata": {},
   "outputs": [
    {
     "data": {
      "text/plain": [
       "15.376641666666666"
      ]
     },
     "execution_count": 9,
     "metadata": {},
     "output_type": "execute_result"
    }
   ],
   "source": [
    "v0_y=(h_end-h_start+g/2*T**2)/T #находим начальную вертикальную скорость\n",
    "v0_y"
   ]
  },
  {
   "cell_type": "code",
   "execution_count": 10,
   "id": "c4f9abc1-8ac6-4659-83d6-2a499ddcae3f",
   "metadata": {},
   "outputs": [
    {
     "data": {
      "text/plain": [
       "(1.462828312588189, 83.81388846354714)"
      ]
     },
     "execution_count": 10,
     "metadata": {},
     "output_type": "execute_result"
    }
   ],
   "source": [
    "alpha=math.atan(v0_y/v0_x) #находим угол запуска тела в радианаx и градусах\n",
    "alpha,math.degrees(alpha)"
   ]
  },
  {
   "cell_type": "code",
   "execution_count": 11,
   "id": "6b552094-4e03-4977-b1d6-8784e9506c64",
   "metadata": {},
   "outputs": [
    {
     "data": {
      "text/plain": [
       "'s_x(t)=1.6666666666666667t'"
      ]
     },
     "execution_count": 11,
     "metadata": {},
     "output_type": "execute_result"
    }
   ],
   "source": [
    "f's_x(t)={v0_x}t' #функция горизонтального перемещения"
   ]
  },
  {
   "cell_type": "code",
   "execution_count": 12,
   "id": "b6850810-cc73-487e-b72b-4e068e90fdd3",
   "metadata": {},
   "outputs": [
    {
     "data": {
      "text/plain": [
       "'s_y(y)= 1 + 15.3766 t - 9.80665/2*t²'"
      ]
     },
     "execution_count": 12,
     "metadata": {},
     "output_type": "execute_result"
    }
   ],
   "source": [
    "f's_y(y)= {h_start} + {v0_y:.6} t - {g:.6}/2*t\\N{superscript two}' #функция вертикального перемещения"
   ]
  },
  {
   "cell_type": "markdown",
   "id": "70375239-cb52-4b86-91a6-54446e4656b4",
   "metadata": {},
   "source": [
    "## Построение графика траектории движения тела"
   ]
  },
  {
   "cell_type": "code",
   "execution_count": 13,
   "id": "4ea5084d-a512-4950-8759-ea8e07f76d9e",
   "metadata": {},
   "outputs": [],
   "source": [
    "t_list,t_array;"
   ]
  },
  {
   "cell_type": "code",
   "execution_count": 14,
   "id": "d0e449f3-ad99-42ff-9bee-3651752c04fd",
   "metadata": {},
   "outputs": [],
   "source": [
    "s_x_list=[v0_x*t for t in t_list] #подставляя t из списка получаем список значений по x\n",
    "s_y_list=[h_start+v0_y*t-g*t**2/2 for t in t_list] #подставляя t из списка получаем список значений по y"
   ]
  },
  {
   "cell_type": "code",
   "execution_count": 15,
   "id": "ef71a037-af2d-41ba-afc3-e41dae13a579",
   "metadata": {},
   "outputs": [],
   "source": [
    "s_x_array=v0_x*t_array\n",
    "s_y_array=h_start+v0_y*t_array-g*t_array**2/2  #то же самое, но в массивах"
   ]
  },
  {
   "cell_type": "code",
   "execution_count": 16,
   "id": "204f912b-d52c-42e6-8228-fb8194d5f7c8",
   "metadata": {},
   "outputs": [
    {
     "data": {
      "text/plain": [
       "(0.0, 5.0, 0.0, 14.0)"
      ]
     },
     "execution_count": 16,
     "metadata": {},
     "output_type": "execute_result"
    },
    {
     "data": {
      "image/png": "[encoded data removed]",
      "text/plain": [
       "<Figure size 640x480 with 1 Axes>"
      ]
     },
     "metadata": {},
     "output_type": "display_data"
    }
   ],
   "source": [
    "plt.figure()\n",
    "plt.plot(s_x_list,s_y_list,'b-',lw=5)\n",
    "plt.title('вертикальное перемещение тела')\n",
    "plt.xlabel('x(m)')\n",
    "plt.ylabel('y(m)')\n",
    "plt.axis([0,s_end,0,h_end+11])"
   ]
  },
  {
   "cell_type": "code",
   "execution_count": 17,
   "id": "f3249df7-f974-40b8-9547-9f4b2e04045f",
   "metadata": {},
   "outputs": [
    {
     "data": {
      "text/plain": [
       "(0.0, 14.0)"
      ]
     },
     "execution_count": 17,
     "metadata": {},
     "output_type": "execute_result"
    },
    {
     "data": {
      "image/png": "[encoded data removed]",
      "text/plain": [
       "<Figure size 640x480 with 1 Axes>"
      ]
     },
     "metadata": {},
     "output_type": "display_data"
    }
   ],
   "source": [
    "plt.figure()\n",
    "plt.plot(s_x_array,s_y_array,'g:',lw=3)\n",
    "plt.title('вертикальное перемещение тела')\n",
    "plt.xlabel('x(m)')\n",
    "plt.ylabel('y(m)')\n",
    "plt.xlim(0,s_end)\n",
    "plt.ylim(0,h_end+11)"
   ]
  },
  {
   "cell_type": "markdown",
   "id": "b3af53a5-517f-44cd-99e8-3251b116d126",
   "metadata": {},
   "source": [
    "# Задание 1.2. Определение момента времени касания телом земли"
   ]
  },
  {
   "cell_type": "markdown",
   "id": "72c5ba13",
   "metadata": {},
   "source": [
    "*Подход 1*"
   ]
  },
  {
   "cell_type": "code",
   "execution_count": 18,
   "id": "b7c35f98-d938-40fa-92ce-eec1f6ca6705",
   "metadata": {},
   "outputs": [
    {
     "data": {
      "text/plain": [
       "[-0.0637382309488101, 3.19970039267921]"
      ]
     },
     "execution_count": 18,
     "metadata": {},
     "output_type": "execute_result"
    }
   ],
   "source": [
    "t=sympy.symbols('t') \n",
    "result=sympy.solve(h_start+v0_y*t-g*t**2/2, t) #решаем уравнение s_y(t)=0 \n",
    "result"
   ]
  },
  {
   "cell_type": "code",
   "execution_count": 19,
   "id": "395bba93-f04e-40d7-a44e-6ce3257a2e6d",
   "metadata": {},
   "outputs": [
    {
     "data": {
      "text/latex": [
       "$\\displaystyle 3.19970039267921$"
      ],
      "text/plain": [
       "3.19970039267921"
      ]
     },
     "execution_count": 19,
     "metadata": {},
     "output_type": "execute_result"
    }
   ],
   "source": [
    "t_star_exact = result[-1] # вычленяем нужный результат (подходящий)\n",
    "t_star_exact"
   ]
  },
  {
   "cell_type": "markdown",
   "id": "80de72a0",
   "metadata": {},
   "source": [
    "$$\\color{red}\\text{Спецификации функции $symbols$ и $solve$ }$$"
   ]
  },
  {
   "cell_type": "markdown",
   "id": "516d4bfb",
   "metadata": {},
   "source": [
    "Функция `symbols` возвращает последовательность символов с взятыми именами\n",
    "из аргумента ``names``, который может быть разделен запятой или пробелом\n",
    "строка или последовательность строк"
   ]
  },
  {
   "cell_type": "markdown",
   "id": "c30fc126",
   "metadata": {},
   "source": [
    "Алгебраически решает уравнения и системы уравнений.\\\n",
    "Может решать\n",
    "- полиномиальные\n",
    "- трансцендентные\n",
    "- кусочные комбинации вышеперечисленных\n",
    "- системы линейных и полиномиальных уравнений\n",
    "- системы, содержащие реляционные выражения\n",
    "- системы, с неопределенными коэффициентами\n",
    "\n",
    "Вывод по умолчанию варьируется в зависимости от ввода и может\n",
    "быть списком (возможно, пустым), словарем, списком\n",
    "словари или кортежи или выражения, включающие реляционные отношения."
   ]
  },
  {
   "cell_type": "markdown",
   "id": "58608cd9",
   "metadata": {},
   "source": [
    "$$\\color{red}\\text{Два примера решения алгебраических уравнений}$$"
   ]
  },
  {
   "cell_type": "code",
   "execution_count": 20,
   "id": "ea803701",
   "metadata": {},
   "outputs": [
    {
     "data": {
      "text/plain": [
       "{i: 1, r: 4}"
      ]
     },
     "execution_count": 20,
     "metadata": {},
     "output_type": "execute_result"
    }
   ],
   "source": [
    "r,i=sympy.symbols('r i')\n",
    "res=sympy.solve((r+i-5,r-i-3),(r,i))\n",
    "res"
   ]
  },
  {
   "cell_type": "code",
   "execution_count": 21,
   "id": "c1baa071",
   "metadata": {},
   "outputs": [
    {
     "data": {
      "text/plain": [
       "[1/2 - sqrt(5)*I/2, 1/2 + sqrt(5)*I/2]"
      ]
     },
     "execution_count": 21,
     "metadata": {},
     "output_type": "execute_result"
    }
   ],
   "source": [
    "n=sympy.symbols('n')\n",
    "res=sympy.solve(sympy.sqrt(2*n**2-2*n+3),n)\n",
    "res"
   ]
  },
  {
   "cell_type": "markdown",
   "id": "d4299575",
   "metadata": {},
   "source": [
    "$$\\color{red}\\text{Выполните 1.2 с помощью подхода 2}$$"
   ]
  },
  {
   "cell_type": "markdown",
   "id": "33ca8911",
   "metadata": {},
   "source": [
    "*Подход 2*"
   ]
  },
  {
   "cell_type": "code",
   "execution_count": 22,
   "id": "35f495c9",
   "metadata": {},
   "outputs": [],
   "source": [
    "t_array1=np.arange(0,2*T,step) #массив значений t\n",
    "s_y_array1=h_start+v0_y*t_array1-g*t_array1**2/2 \n"
   ]
  },
  {
   "cell_type": "code",
   "execution_count": 23,
   "id": "fc5f2a01",
   "metadata": {},
   "outputs": [
    {
     "name": "stdout",
     "output_type": "stream",
     "text": [
      "319\n"
     ]
    }
   ],
   "source": [
    "for i, a in enumerate(s_y_array1[:-1]):\n",
    "    if a * s_y_array1[i+1] < 0:\n",
    "        print(i)\n",
    "        k=i"
   ]
  },
  {
   "cell_type": "code",
   "execution_count": 24,
   "id": "4940c044",
   "metadata": {},
   "outputs": [
    {
     "data": {
      "text/plain": [
       "(3.19, 3.2)"
      ]
     },
     "execution_count": 24,
     "metadata": {},
     "output_type": "execute_result"
    }
   ],
   "source": [
    "t_array1[k],t_array1[k+1] #что-то между 3.19 с и 3.20 с"
   ]
  },
  {
   "cell_type": "markdown",
   "id": "f1479968",
   "metadata": {},
   "source": [
    "$$\\color{red}\\text{Приведите формулы для прямой\n",
    " и для вычисления}$$"
   ]
  },
  {
   "cell_type": "markdown",
   "id": "aa2b5fd9",
   "metadata": {},
   "source": [
    "Прямая задается уравнением $\\frac{x-x_{a}}{x_{b}-x_{a}}=\\frac{y-y_{a}}{y_{b}-y_{a}}$. Подставляя вместо $x_{a},x_{b},y_{a},y_{b}$ значения времени и расстояния *(x-врямя, y-расстояние)* получаем уравнение прямой. Вместо y подставляем 0 так как в этот момент тело приземляется. Решаем относительно x для нахождения времени"
   ]
  },
  {
   "cell_type": "code",
   "execution_count": 25,
   "id": "4fb92aa6",
   "metadata": {},
   "outputs": [
    {
     "data": {
      "text/latex": [
       "$\\displaystyle 3.19969949953995$"
      ],
      "text/plain": [
       "3.19969949953995"
      ]
     },
     "execution_count": 25,
     "metadata": {},
     "output_type": "execute_result"
    }
   ],
   "source": [
    "xa=t_array1[k]\n",
    "ya=s_y_array1[k]\n",
    "xb=t_array1[k+1]\n",
    "yb=s_y_array1[k+1]\n",
    "t=sympy.symbols('t')\n",
    "time=sympy.solve((t-xa)/(xb-xa)- (0-ya)/(yb-ya),t)\n",
    "time=time[0]\n",
    "time"
   ]
  },
  {
   "cell_type": "markdown",
   "id": "ddc678bd",
   "metadata": {},
   "source": [
    "$$\\color{red}\\text{Сравните точное решение и приближенное решение, вычислите относительную ошибку}$$"
   ]
  },
  {
   "cell_type": "code",
   "execution_count": 26,
   "id": "f7f9ee8e",
   "metadata": {},
   "outputs": [
    {
     "data": {
      "text/plain": [
       "(8.93139257218678e-7, 2.79132152267177e-5)"
      ]
     },
     "execution_count": 26,
     "metadata": {},
     "output_type": "execute_result"
    }
   ],
   "source": [
    "delta=t_star_exact-time\n",
    "error=delta*100/t_star_exact\n",
    "delta, error"
   ]
  },
  {
   "cell_type": "markdown",
   "id": "9754df36",
   "metadata": {},
   "source": [
    "$$\\delta=\\frac{\\Delta t}{t_{exact}}=2.79\\times 10^{-5} \\% $$"
   ]
  },
  {
   "cell_type": "markdown",
   "id": "ea4f0561-24e3-49ad-b4ad-ba1917c822f7",
   "metadata": {},
   "source": [
    "# Задание 1.3. Построение секущей касательной и нормали к графику функции"
   ]
  },
  {
   "cell_type": "code",
   "execution_count": 27,
   "id": "2eed0409-c7e5-49f8-a1da-21fac98c84da",
   "metadata": {},
   "outputs": [
    {
     "data": {
      "text/plain": [
       "(array([0., 1.]), array([4.98333333, 3.13994275]))"
      ]
     },
     "execution_count": 27,
     "metadata": {},
     "output_type": "execute_result"
    }
   ],
   "source": [
    "p_start=np.array([s_x_array[0],s_y_array[0]])\n",
    "p_end=np.array([s_x_array[-1],s_y_array[-1]])\n",
    "p_start, p_end"
   ]
  },
  {
   "cell_type": "code",
   "execution_count": 28,
   "id": "56a6c651-9bdf-4467-8163-03f5c62c8c25",
   "metadata": {},
   "outputs": [],
   "source": [
    "a=p_end-p_start"
   ]
  },
  {
   "cell_type": "code",
   "execution_count": 29,
   "id": "404bc1ff-37f6-4e26-95b2-eb305b77323f",
   "metadata": {},
   "outputs": [],
   "source": [
    "p=[p_start+a*t for t in [-1,2]]\n",
    "p=np.array(p)"
   ]
  },
  {
   "cell_type": "markdown",
   "id": "749e64d1",
   "metadata": {},
   "source": [
    "$$\\color{red}\\text{Постройте график касательной прямой к траектории движения тела }$$"
   ]
  },
  {
   "cell_type": "code",
   "execution_count": 30,
   "id": "7bcfb85f",
   "metadata": {},
   "outputs": [],
   "source": [
    "k=v0_y/v0_x\n",
    "x0,y0=p_start[0],p_start[1]\n",
    "x1=x0+2\n",
    "y1=k*(x1-x0)+y0"
   ]
  },
  {
   "cell_type": "markdown",
   "id": "f1625ccd",
   "metadata": {},
   "source": [
    "$$\\color{red}\\text{Поясните откуда k }$$"
   ]
  },
  {
   "cell_type": "markdown",
   "id": "0d9c2fa0",
   "metadata": {},
   "source": [
    "$k$ мы взяли из факта, что тангенс наклона касательной к прямой в точке равен производной прямой в этой точке и равен угловому коофиценту"
   ]
  },
  {
   "cell_type": "markdown",
   "id": "f8a4021b",
   "metadata": {},
   "source": [
    "$$\\color{red}\\text{ Сформулируйте  уравнение нормальной прямой к\n",
    "траектории движения тела в момент времени , используя свойство\n",
    "перпендикуляртности каксательной и нормальной прямых.}$$"
   ]
  },
  {
   "cell_type": "markdown",
   "id": "ea9a49c9",
   "metadata": {},
   "source": [
    "Так как касательная и нормаль перпендикулярны, то при умножении коофиценов $k_{кас.}$ и $k_{норм.}$получается $-1$ $$y=-\\frac{1}{k}(x-x_{start})+y_{start}$$"
   ]
  },
  {
   "cell_type": "markdown",
   "id": "98b1749d",
   "metadata": {},
   "source": [
    "$$\\color{red}\\text{Постройте график нормальной прямой к траектории движения\n",
    "тела в момент времени в одной графической области с траекторией\n",
    "движения, секущей прямой и касательной прямой.}$$"
   ]
  },
  {
   "cell_type": "code",
   "execution_count": 43,
   "id": "6a8916e3",
   "metadata": {},
   "outputs": [],
   "source": [
    "kn=-(1/k)\n",
    "x2=x0-5\n",
    "x3=x0+10\n",
    "y2=kn*(x2-x0)+y0\n",
    "y3=kn*(x3-x0)+y0"
   ]
  },
  {
   "cell_type": "code",
   "execution_count": 44,
   "id": "5e7b4abe-5149-4507-a2d6-c01f95709182",
   "metadata": {},
   "outputs": [
    {
     "data": {
      "text/plain": [
       "[<matplotlib.lines.Line2D at 0x1cac97d4810>]"
      ]
     },
     "execution_count": 44,
     "metadata": {},
     "output_type": "execute_result"
    },
    {
     "data": {
      "image/png": "[encoded data removed]",
      "text/plain": [
       "<Figure size 640x480 with 1 Axes>"
      ]
     },
     "metadata": {},
     "output_type": "display_data"
    }
   ],
   "source": [
    "fig=plt.figure()\n",
    "plt.plot(s_x_array,s_y_array,'b-',lw=5) # траектория\n",
    "plt.plot(p[:,0],p[:,1],'--',color='r',lw=1) # секущая к траектории движения\n",
    "plt.xlabel('x(m)'); plt.ylabel('y(m)')\n",
    "plt.axis([-3,s_end+5,0,h_end+11])\n",
    "###\n",
    "plt.plot([x0,x1],[y0,y1],'g:',lw=3) #касательная к траектории в начальный момент времени\n",
    "plt.plot([x2,x3],[y2,y3],'m-',lw=3) #нормаль к траектории в начальный момент времени"
   ]
  },
  {
   "cell_type": "markdown",
   "id": "7b3b5a89-4ac6-4935-98b5-6a57ad7e34a6",
   "metadata": {},
   "source": [
    "# Задание 1.4. Построение графика функции "
   ]
  },
  {
   "cell_type": "markdown",
   "id": "13bb2a29",
   "metadata": {},
   "source": [
    "$$\\color{red}\\text{Графики функций по параметрическому и полярному уравнениям}$$"
   ]
  },
  {
   "cell_type": "code",
   "execution_count": 33,
   "id": "ea3e7d75-85fe-4465-aa9a-8884eeb4df26",
   "metadata": {},
   "outputs": [],
   "source": [
    "t1_list=[-0.99+i*step for i in range(199)]"
   ]
  },
  {
   "cell_type": "code",
   "execution_count": 34,
   "id": "9c2ade13",
   "metadata": {},
   "outputs": [],
   "source": [
    "x_list=[math.log(sympy.sqrt((1 - t)/(1+t))) for t in t1_list] \n",
    "y_list=[sympy.sqrt(1-t**2) for t in t1_list]"
   ]
  },
  {
   "cell_type": "code",
   "execution_count": 35,
   "id": "68ef14df",
   "metadata": {},
   "outputs": [
    {
     "data": {
      "image/png": "[encoded data removed]",
      "text/plain": [
       "<Figure size 640x480 with 1 Axes>"
      ]
     },
     "metadata": {},
     "output_type": "display_data"
    }
   ],
   "source": [
    "plt.figure()\n",
    "plt.plot(x_list,y_list,'r-',lw=3)\n",
    "plt.xlabel('x(t)')\n",
    "plt.ylabel('y(t)')\n",
    "plt.xlim([-3,3])\n",
    "plt.ylim([0.1,1.1])\n",
    "plt.grid(1)"
   ]
  },
  {
   "cell_type": "code",
   "execution_count": 36,
   "id": "8b23ae34",
   "metadata": {},
   "outputs": [
    {
     "data": {
      "text/plain": [
       "[<matplotlib.lines.Line2D at 0x1cac9555090>]"
      ]
     },
     "execution_count": 36,
     "metadata": {},
     "output_type": "execute_result"
    },
    {
     "data": {
      "image/png": "[encoded data removed]",
      "text/plain": [
       "<Figure size 640x480 with 1 Axes>"
      ]
     },
     "metadata": {},
     "output_type": "display_data"
    }
   ],
   "source": [
    "a=1; m=3; n=2\n",
    "phi=np.arange(-np.pi,np.pi,0.01)\n",
    "r=a/(m+n*np.sin(phi))\n",
    "plt.axes(projection='polar')\n",
    "plt.plot(phi+(r<0)*np.pi, abs(r), 'r.')"
   ]
  }
 ],
 "metadata": {
  "kernelspec": {
   "display_name": "base",
   "language": "python",
   "name": "python3"
  },
  "language_info": {
   "codemirror_mode": {
    "name": "ipython",
    "version": 3
   },
   "file_extension": ".py",
   "mimetype": "text/x-python",
   "name": "python",
   "nbconvert_exporter": "python",
   "pygments_lexer": "ipython3",
   "version": "3.11.7"
  }
 },
 "nbformat": 4,
 "nbformat_minor": 5
}
