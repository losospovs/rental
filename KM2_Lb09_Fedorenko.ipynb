{
 "cells": [
  {
   "cell_type": "markdown",
   "id": "0edb774e",
   "metadata": {},
   "source": [
    "# Лабораторная работа 9"
   ]
  },
  {
   "cell_type": "markdown",
   "id": "e1834275",
   "metadata": {},
   "source": [
    "# Создание текстового файла большого объема с помощью генераторной функции"
   ]
  },
  {
   "cell_type": "markdown",
   "id": "f9ce304b",
   "metadata": {},
   "source": [
    "Федоренко Алексей Жанович 22.05.2025"
   ]
  },
  {
   "cell_type": "markdown",
   "id": "0cf43bab",
   "metadata": {},
   "source": [
    "$\\color{red}{\\text{Напишите}}$ генераторную функцию\n"
   ]
  },
  {
   "cell_type": "code",
   "execution_count": 139,
   "id": "56ac61a1",
   "metadata": {},
   "outputs": [],
   "source": [
    "def file_gen(file_name: str,\n",
    "         file_size: int, \n",
    "         type_symbols: str='latin', \n",
    "         number_words: (int,int)=(10,20), \n",
    "         number_symbols: (int,int)=(5,10)):\n",
    "    ..."
   ]
  },
  {
   "cell_type": "markdown",
   "id": "703ca5b4",
   "metadata": {},
   "source": [
    "для создания текстового файла c именем `file_name` размера `file_size` в мегабайтах, строки которого будут состоять из случайного количества слов из диапазона number_words случайной длины `number_symbols` и составленных из случайных символов заданного типа `type_symbols` . Слова в строке разделены одним пробелом.\\\n",
    "Комментарии по аргументам функции file_gen :\n",
    "- `file_name` определяет имя текстового файла;\n",
    "- `file_size` определяет размер текстового файла в мегабайтах;\n",
    "- `type_symbols` может принимать одно из трех значений: `'digits'` , `'latin'` , `'cyrillic'` :\n",
    "    + если `type_symbols='digits'` , то для создания файла используются только цифровые символы;\n",
    "    + если `type_symbols='latin'` , то для создания файла используются только прописные латинские символы от `a` до `z` ; cтандартное значение `type_symbols='latin'` ;\n",
    "     + если `type_symbols='cyrillic'` , то для создания файла исползьуются только прописные кириллические символы;\n",
    "- `number_words` является кортежем из двух целых чисел для задания количества слов в строке; количество слов в каждой строке файла определяется как случайное число из диапазона, определенного кортежем; стандартное значение `number_words=(10,50)`\n",
    "- `number_symbols` является кортежем из двух целых чисел для задания количества символов в слове; количество символов в каждом слове файла определяется как случайное число из диапазона, определенного кортежем; стандартное значение `number_symbols=(5,9)`"
   ]
  },
  {
   "cell_type": "markdown",
   "id": "4fc0daeb",
   "metadata": {},
   "source": [
    "## Функция randint из модуля random"
   ]
  },
  {
   "cell_type": "code",
   "execution_count": 140,
   "id": "4cc17fe5",
   "metadata": {},
   "outputs": [],
   "source": [
    "from random import randint"
   ]
  },
  {
   "cell_type": "code",
   "execution_count": 141,
   "id": "8fde8c85",
   "metadata": {},
   "outputs": [
    {
     "data": {
      "text/plain": [
       "'Код символа: 99, символ: c'"
      ]
     },
     "execution_count": 141,
     "metadata": {},
     "output_type": "execute_result"
    }
   ],
   "source": [
    "latin_code = (ord('a'), ord('z')) # соответствует type_symbols = 'latin'\n",
    "f'Код символа: {(c:=randint(*latin_code))}, символ: {chr(c)}'"
   ]
  },
  {
   "cell_type": "markdown",
   "id": "3bb179ba",
   "metadata": {},
   "source": [
    "## Функция process_time из модуля time"
   ]
  },
  {
   "cell_type": "code",
   "execution_count": 142,
   "id": "b61de9a3",
   "metadata": {},
   "outputs": [],
   "source": [
    "from time import process_time"
   ]
  },
  {
   "cell_type": "code",
   "execution_count": 143,
   "id": "6d7d54ce",
   "metadata": {},
   "outputs": [
    {
     "name": "stdout",
     "output_type": "stream",
     "text": [
      "0.25 секунд\n"
     ]
    }
   ],
   "source": [
    "start = process_time()\n",
    "[x**2 for x in range(1_000_000)]\n",
    "end = process_time()\n",
    "print(f'{end - start} секунд')"
   ]
  },
  {
   "cell_type": "markdown",
   "id": "6bba3a86",
   "metadata": {},
   "source": [
    "## Задание 9.1. Запись данных в текстовый файл"
   ]
  },
  {
   "cell_type": "code",
   "execution_count": 144,
   "id": "4e1e5d89",
   "metadata": {},
   "outputs": [],
   "source": [
    "file_name = 'test.txt'\n",
    "f = open(file_name, 'w')"
   ]
  },
  {
   "cell_type": "code",
   "execution_count": 145,
   "id": "bfedf003",
   "metadata": {},
   "outputs": [
    {
     "data": {
      "text/plain": [
       "['t\\n', 'e\\n', 's\\n', 't\\n']"
      ]
     },
     "execution_count": 145,
     "metadata": {},
     "output_type": "execute_result"
    }
   ],
   "source": [
    "lines_list = [f'{x}\\n' for x in 'test']\n",
    "lines_list"
   ]
  },
  {
   "cell_type": "code",
   "execution_count": 146,
   "id": "dbd06d71",
   "metadata": {},
   "outputs": [],
   "source": [
    "f.writelines(lines_list)"
   ]
  },
  {
   "cell_type": "code",
   "execution_count": 147,
   "id": "642d727f",
   "metadata": {},
   "outputs": [],
   "source": [
    "f.close()"
   ]
  },
  {
   "cell_type": "code",
   "execution_count": 148,
   "id": "3c43ca5f",
   "metadata": {},
   "outputs": [
    {
     "name": "stdout",
     "output_type": "stream",
     "text": [
      "t\n",
      "e\n",
      "s\n",
      "t\n"
     ]
    }
   ],
   "source": [
    "with open(file_name,'r') as f:\n",
    " for line in f:\n",
    "   print(line, end='')\n"
   ]
  },
  {
   "cell_type": "code",
   "execution_count": 149,
   "id": "b789058e",
   "metadata": {},
   "outputs": [],
   "source": [
    "lines_gen_expr = (f'{x}\\n' for x in range(10**6))\n",
    "def lines_gen_fun(number_lines=10**6):\n",
    "    yield from (f'{x}\\n' for x in range(number_lines))\n",
    "with open(file_name,'w') as f:\n",
    "    f.writelines(lines_gen_expr)\n",
    "    f.writelines(lines_gen_fun())"
   ]
  },
  {
   "cell_type": "code",
   "execution_count": 150,
   "id": "7eb3a8b1",
   "metadata": {},
   "outputs": [
    {
     "name": "stdout",
     "output_type": "stream",
     "text": [
      "6.569757461547852 Mb\n"
     ]
    }
   ],
   "source": [
    "def lines_gen_fun(number_lines = 10**6):\n",
    " file_size = 0\n",
    " for x in range(number_lines):\n",
    "    line = f'{x}\\n'\n",
    "    yield line\n",
    "    file_size += len(line)\n",
    " print(f'{file_size/1024**2} Mb')\n",
    "\n",
    "with open(file_name,'w') as f:\n",
    "    f.writelines(lines_gen_fun())"
   ]
  },
  {
   "cell_type": "code",
   "execution_count": 151,
   "id": "2a0629d9",
   "metadata": {},
   "outputs": [
    {
     "name": "stdout",
     "output_type": "stream",
     "text": [
      "6.569757461547852 Mb\n"
     ]
    }
   ],
   "source": [
    "def lines_gen_fun(number_lines = 10**6):\n",
    " file_size = 0\n",
    " for x in range(number_lines):\n",
    "    line = f'{x}\\n'\n",
    "    yield line\n",
    "    file_size += len(line.encode('utf8'))\n",
    " print(f'{file_size/1024**2} Mb')\n",
    "\n",
    "with open(file_name,'w') as f:\n",
    "    f.writelines(lines_gen_fun())"
   ]
  },
  {
   "cell_type": "code",
   "execution_count": 152,
   "id": "3a82ccf5",
   "metadata": {},
   "outputs": [
    {
     "name": "stdout",
     "output_type": "stream",
     "text": [
      "6.569757461547852 Mb\n",
      "2.40625 секунд\n"
     ]
    }
   ],
   "source": [
    "with open(file_name,'w') as f:\n",
    " start = process_time()\n",
    " f.writelines(lines_gen_fun())\n",
    " end = process_time()\n",
    " print(end - start, 'секунд')"
   ]
  },
  {
   "cell_type": "markdown",
   "id": "2a2fe83b",
   "metadata": {},
   "source": [
    "3. $\\color{red}{\\text{Напишите}}$ комментарии для каждой строки кода функции `lines_gen_fun`"
   ]
  },
  {
   "cell_type": "code",
   "execution_count": 153,
   "id": "e6b2554a",
   "metadata": {},
   "outputs": [],
   "source": [
    "def lines_gen_fun(number_lines=10**6, status=False):  #\n",
    " file_size = 0  # в начале размер файла 0\n",
    " for x in range(number_lines):  # итерация по номерам строк\n",
    "    line = f'{x}\\n' # строка в нашем случае такая (\"номер строки\\n\")\n",
    "    yield line # добавляем строку генератором\n",
    "    file_size += len(line.encode('utf8')) # добавляем к размеру размер текущей строки\n",
    " \n",
    "    if status: # если надо то делаем с процентами\n",
    "        status_number = x/number_lines*100 # находим процент для отображения (тек строка/колво строк)\n",
    "        # \\r возврат курсора в начало строки для перезаписи\n",
    "        print(f'\\r{int(status_number)}%', end='', flush=True) # отображение статуса записи в файл в процентах\n",
    " print(f'\\n {file_size/1024**2} Mb') # показываем размер получившегося файля в мб"
   ]
  },
  {
   "cell_type": "code",
   "execution_count": 154,
   "id": "fda037aa",
   "metadata": {},
   "outputs": [
    {
     "name": "stdout",
     "output_type": "stream",
     "text": [
      "6%"
     ]
    },
    {
     "name": "stdout",
     "output_type": "stream",
     "text": [
      "99%\n",
      " 0.013246536254882812 Mb\n",
      "4.703125 секунд\n"
     ]
    }
   ],
   "source": [
    "with open(file_name,'w') as f:\n",
    " start = process_time()\n",
    " f.writelines(lines_gen_fun(3*10**3, status=True))\n",
    " end = process_time()\n",
    " print(f'{end - start} секунд')"
   ]
  },
  {
   "cell_type": "markdown",
   "id": "20e2af85",
   "metadata": {},
   "source": [
    "## Задание 9.2. Генерация строк"
   ]
  },
  {
   "cell_type": "code",
   "execution_count": 155,
   "id": "bd7bba77",
   "metadata": {},
   "outputs": [],
   "source": [
    "latin_code = (ord('a'), ord('z')) # соответствует type_symbols = 'latin'\n",
    "number_words = (10, 20)\n",
    "number_symbols = (5, 10)"
   ]
  },
  {
   "cell_type": "code",
   "execution_count": 156,
   "id": "a9e195d9",
   "metadata": {},
   "outputs": [
    {
     "data": {
      "text/plain": [
       "'jfqejjepwt'"
      ]
     },
     "execution_count": 156,
     "metadata": {},
     "output_type": "execute_result"
    }
   ],
   "source": [
    "len_word = randint(*number_symbols)\n",
    "word = ''.join([chr(randint(*latin_code)) for i in range(len_word)])\n",
    "word"
   ]
  },
  {
   "cell_type": "markdown",
   "id": "8e12a75c",
   "metadata": {},
   "source": [
    "1. $\\color{red}{\\text{Напишите код}}$ для генерации строки со случайным количеством слов, случайной длиной слова и случайным набором символов в слове для трех множеств смволов: прописные латинские символы, цифровые символы, прописные кириллические символы. $\\color{red}{\\text{Протестируйте код}}$"
   ]
  },
  {
   "cell_type": "code",
   "execution_count": 157,
   "id": "fcca4e83",
   "metadata": {},
   "outputs": [
    {
     "data": {
      "text/plain": [
       "'saevszlwre ldcstmfir kbjltofxx nquuooi yfdpke kqoes aobelurlhi rlfyne rslyzgpify csqwpcelb rbofqrsxm rdriyhdp tzszyku'"
      ]
     },
     "execution_count": 157,
     "metadata": {},
     "output_type": "execute_result"
    }
   ],
   "source": [
    "latin_code = (ord('a'), ord('z'))\n",
    "str_latin = ' '.join([''.join([chr(randint(*latin_code)) for i in range(randint(*number_symbols))]) for x in range(randint(*number_words))])\n",
    "str_latin"
   ]
  },
  {
   "cell_type": "code",
   "execution_count": 158,
   "id": "058f49d6",
   "metadata": {},
   "outputs": [
    {
     "data": {
      "text/plain": [
       "'426908 90505 98536655 442217788 70222050 6528489977 22826384 44583988 70550 5138803063 77406885 85244368 54722 837011329 2179638928 27814 81753691 3643485626 52406957'"
      ]
     },
     "execution_count": 158,
     "metadata": {},
     "output_type": "execute_result"
    }
   ],
   "source": [
    "digs_code=(ord('0'), ord('9'))\n",
    "str_digs = ' '.join([''.join([chr(randint(*digs_code)) for i in range(randint(*number_symbols))]) for x in range(randint(*number_words))])\n",
    "str_digs"
   ]
  },
  {
   "cell_type": "code",
   "execution_count": 159,
   "id": "f734fffb",
   "metadata": {},
   "outputs": [
    {
     "data": {
      "text/plain": [
       "'йакеял йжиррнспоь наьзиыеюл биъхр ллжса мфрщш пьктмчл ыщенф тцоцжт цйдрг ушхфдмоьаш ечгеждыул аятхжцьта ауйчх фэгеьг'"
      ]
     },
     "execution_count": 159,
     "metadata": {},
     "output_type": "execute_result"
    }
   ],
   "source": [
    "kirill_code=(ord('а'),ord('я'))\n",
    "str_kirill=' '.join([''.join([chr(randint(*kirill_code)) for i in range(randint(*number_symbols)) ]) for x in range(randint(*number_words))])\n",
    "str_kirill"
   ]
  },
  {
   "cell_type": "markdown",
   "id": "34aa5ecf",
   "metadata": {},
   "source": [
    "2. $\\color{red}{\\text{Напишите}}$ генераторную функцию `lines_gen_fun_v2(file_size, type_symbols, number_words, number_symbols)` для генерации строк, суммарный размер которых в мегабайтах равен `file_size`"
   ]
  },
  {
   "cell_type": "markdown",
   "id": "cb7f2561",
   "metadata": {},
   "source": [
    "3. $\\color{red}{\\text{Напишите}}$ комментарии для каждой строки кода функции `lines_gen_fun_v2`"
   ]
  },
  {
   "cell_type": "markdown",
   "id": "b32f31a0",
   "metadata": {},
   "source": [
    "4. $\\color{red}{\\text{Напишите}}$ строки документации для функции `lines_gen_fun_v2`"
   ]
  },
  {
   "cell_type": "code",
   "execution_count": 160,
   "id": "e9fdfa3d",
   "metadata": {},
   "outputs": [],
   "source": [
    "def lines_gen_fun_v2(file_size,type_symbols, number_words, number_symbols):\n",
    "    \"\"\"\n",
    "    Do: генерирует строки строка из рандомного количества подстрок и символов в них\n",
    "    суммарный размер которых равен заданному числу \n",
    "    Выводит:    - процент записанных данных в процессе выполнения\n",
    "                - фактический размер записанных данных в мегабайтах\n",
    "    Arguments:  file_size -- суммарный размер сгенерированных строк в мегабайтах\n",
    "                type_symbols -- множество символов для генерации\n",
    "                        ('latin','cyrillic','digits')\n",
    "                number_words -- диапозон количества слов в строке \n",
    "                number_symbols -- диапазон количества символов в слове\n",
    "    Return: генератор строк\n",
    "    \"\"\"\n",
    "    size = 0  # начальный размер\n",
    "    file_size=file_size*1024**2 #желаемый размер в байтах\n",
    "    while(1):  # бесконечный цикл\n",
    "        match type_symbols:  # рассматриваем варианты символов\n",
    "            case 'latin':     # латинские\n",
    "                code= (ord('a'), ord('z'))    # буквы от а до z\n",
    "            case 'cyrillic':     #  кириллические\n",
    "                code=(ord('а'),ord('я'))     # буквы от а до я\n",
    "            case 'digits':     # цифры\n",
    "                code=(ord('0'), ord('9'))    # от 0 до 9\n",
    "            case _:    # в остальных случаях\n",
    "                raise ValueError(\"only 'latin', 'cyrillic' or 'digits' as arguments\")     # ошибка значения\n",
    "            # строка из рандомного количества подстрок и символов в них\n",
    "        line=' '.join([''.join([chr(randint(*code)) for i in range(randint(*number_symbols))]) for x in range(randint(*number_words))])\n",
    "        line+='\\n'\n",
    "        yield line # возвращаем строку\n",
    "        size += len(line.encode('utf8'))     # добавляем к размеру размер строки\n",
    "        print(f'\\r{int(size*100/file_size)}%', end='', flush=True) # отображение статуса записи в файл в процентах\n",
    "        if size>=file_size:     # если размер больше или равен нужному \n",
    "            print(f'\\r{100}%     ')\n",
    "            print(f'\\nresult size is {size/1024**2} Mb')\n",
    "            break    # выходим из цикла\n",
    "        else: print(f'\\r{int(size*100/file_size)}%', end='', flush=True) # отображение статуса записи в файл в процентах"
   ]
  },
  {
   "cell_type": "markdown",
   "id": "596208ea",
   "metadata": {},
   "source": [
    "5. $\\color{red}{\\text{Протестируйте}}$ функцию `lines_gen_fun_v2` для различных значений аргументов в предположении, что корректность вводимых данных гарантируется.\n"
   ]
  },
  {
   "cell_type": "code",
   "execution_count": 161,
   "id": "3f254da8",
   "metadata": {},
   "outputs": [
    {
     "name": "stdout",
     "output_type": "stream",
     "text": [
      "100%     \n",
      "\n",
      "result size is 0.00011157989501953125 Mb\n",
      "['xnxzh sscjslper cee xrcweizdl yajsi lutxuba sderiox hyy i iigmxj uzpbgbybu cvdhftv uqhr w wn cysxocf ksmx enviedtcvi\\n']\n"
     ]
    }
   ],
   "source": [
    "print(list(lines_gen_fun_v2(0.0001,'latin',(1,20),(1,10))))"
   ]
  },
  {
   "cell_type": "code",
   "execution_count": 162,
   "id": "b3da3c4a",
   "metadata": {},
   "outputs": [
    {
     "name": "stdout",
     "output_type": "stream",
     "text": [
      "100%     \n",
      "\n",
      "result size is 0.0001125335693359375 Mb\n",
      "['сюгмщи лууйу тх ьаум щодз зъю\\n', 'хщрылз йнпщ пязмги\\n', 'взу щсят нейзхд\\n']\n"
     ]
    }
   ],
   "source": [
    "print(list(lines_gen_fun_v2(0.0001,'cyrillic',(1,7),(2,6))))"
   ]
  },
  {
   "cell_type": "code",
   "execution_count": 163,
   "id": "61033f55",
   "metadata": {},
   "outputs": [
    {
     "name": "stdout",
     "output_type": "stream",
     "text": [
      "100%     \n",
      "\n",
      "result size is 0.00011730194091796875 Mb\n",
      "['45090 07989 80403 521198 43343 257674 839912 329514 03146\\n', '660962 28999 796459 49775 847979 85927 414667 855201 32394 65033\\n']\n"
     ]
    }
   ],
   "source": [
    "print(list(lines_gen_fun_v2(0.0001,'digits',(1,10),(5,6))))"
   ]
  },
  {
   "cell_type": "code",
   "execution_count": 164,
   "id": "3b21fd4f",
   "metadata": {},
   "outputs": [
    {
     "name": "stdout",
     "output_type": "stream",
     "text": [
      "only 'latin', 'cyrillic' or 'digits' as arguments\n"
     ]
    }
   ],
   "source": [
    "try:\n",
    "    print(list(lines_gen_fun_v2(0.0001,'abcdef',(1,10),(5,6))))\n",
    "except ValueError as e:\n",
    "    print(e)"
   ]
  },
  {
   "cell_type": "markdown",
   "id": "06aa9e6d",
   "metadata": {},
   "source": [
    "## Задание 9.3. Запись сгенерированных строк в текстовый файл"
   ]
  },
  {
   "cell_type": "markdown",
   "id": "d6626fca",
   "metadata": {},
   "source": [
    "1. $\\color{red}{\\text{Напишите}}$ результирующую генераторную функцию"
   ]
  },
  {
   "cell_type": "markdown",
   "id": "415b06f1",
   "metadata": {},
   "source": [
    "2. $\\color{red}{\\text{Напишите}}$ комментарии для каждой строки кода функции `lines_gen`"
   ]
  },
  {
   "cell_type": "markdown",
   "id": "d1e849ed",
   "metadata": {},
   "source": [
    "3. $\\color{red}{\\text{Напишите}}$ строки документации для функции `lines_gen`"
   ]
  },
  {
   "cell_type": "code",
   "execution_count": 165,
   "id": "d14672a7",
   "metadata": {},
   "outputs": [],
   "source": [
    "def file_gen(file_name: str, file_size: int,  type_symbols: str='latin', number_words: (int,int)=(10,20), number_symbols: (int,int)=(5,10))->None:\n",
    "    from time import process_time\n",
    "    \"\"\"\n",
    "    Do: генерирует строки строка из рандомного количества подстрок и символов в них\n",
    "    суммарный размер которых равен заданному числу и записывает эти строки в файл \n",
    "\n",
    "    Выводит:    - процент записанных данных в процессе выполнения\n",
    "                - фактический размер записанных данных в мегабайтах\n",
    "                - время для выполнения кода функции\n",
    "\n",
    "    Arguments:  file_size -- суммарный размер сгенерированных строк в мегабайтах\n",
    "                type_symbols -- множество символов для генерации\n",
    "                        ('latin','cyrillic','digits')\n",
    "                number_words -- диапозон количества слов в строке \n",
    "                number_symbols -- диапазон количества символов в слове\n",
    "    Return: None\n",
    "    \"\"\"\n",
    "    def lines_gen_fun_v2(file_size,type_symbols, number_words, number_symbols):\n",
    "\n",
    "        size = 0  # начальный размер\n",
    "        file_size=file_size*1024**2 #желаемый размер в байтах\n",
    "        \n",
    "        match type_symbols:  # рассматриваем варианты символов\n",
    "                case 'latin':     # латинские\n",
    "                        code= (ord('a'), ord('z'))    # буквы от а до z\n",
    "                case 'cyrillic':     #  кириллические\n",
    "                        code=(ord('а'),ord('я'))     # буквы от а до я\n",
    "                case 'digits':     # цифры\n",
    "                        code=(ord('0'), ord('9'))    # от 0 до 9\n",
    "                case _:    # в остальных случаях\n",
    "                        raise ValueError(\"only 'latin', 'cyrillic' or 'digits' as arguments\")   # ошибка значения\n",
    "                        # строка из рандомного количества подстрок и символов в них\n",
    "        while(1):  # бесконечный цикл\n",
    "          line=' '.join([''.join([chr(randint(*code)) for i in range(randint(*number_symbols))]) for x in range(randint(*number_words))])\n",
    "          line+='\\n'\n",
    "          yield line # возвращаем строку\n",
    "          size += len(line.encode('utf8'))     # добавляем к размеру размер строки\n",
    "          if size>=file_size:     # если размер больше или равен нужному \n",
    "                print(f'\\r{100}%     ')\n",
    "                print(f'\\nfact size is {size/1024**2} Mb')\n",
    "                break    # выходим из цикла\n",
    "          else: print(f'\\r{int(size*100/file_size)}%     ', end='', flush=True) # отображение статуса записи в файл в процентах\n",
    "    start=process_time()  # начинаем отсчет времени\n",
    "    with open(file_name,'w') as f:  # открываем файл (имя - аргумент) для записи\n",
    "        f.writelines(lines_gen_fun_v2(file_size,type_symbols, number_words, number_symbols))  # записываем в строки результат генерации\n",
    "    end=process_time()  # конец отсчета времени\n",
    "    print(f'{end - start} seconds') # выводим время"
   ]
  },
  {
   "cell_type": "markdown",
   "id": "186360e5",
   "metadata": {},
   "source": [
    "4. $\\color{red}{\\text{Протестируйте}}$ функцию `lines_gen` для различных значений аргументов в предположении, что корректность вводимых данных гарантируется."
   ]
  },
  {
   "cell_type": "code",
   "execution_count": 166,
   "id": "d735ad68",
   "metadata": {},
   "outputs": [
    {
     "name": "stdout",
     "output_type": "stream",
     "text": [
      "5%     "
     ]
    },
    {
     "name": "stdout",
     "output_type": "stream",
     "text": [
      "100%     \n",
      "\n",
      "fact size is 0.1000051498413086 Mb\n",
      "1.859375 seconds\n"
     ]
    }
   ],
   "source": [
    "file_gen(file_name,0.1,number_symbols=(5,7))"
   ]
  },
  {
   "cell_type": "code",
   "execution_count": 167,
   "id": "dd3d089d",
   "metadata": {},
   "outputs": [
    {
     "name": "stdout",
     "output_type": "stream",
     "text": [
      "rrwdjh ieiglxf rmkzirw waqdjo vfiuoy ueppa ltgeisk tlzfasm nzjrzvo xymsl rlisver blask oxhwxfx nqvjgys\n",
      "\n",
      "jdufemt ugjvakj irggyxg vypqtvc vrmjj iodawr tdeotpx jvqrywi rtpxfrt uinhd tbirn nareuva yoicmwq fzlym\n",
      "\n",
      "yvjtyg zbcean tyqva qehcag igsbajw evzfsb ftstmz uiwcq anycif gwrxnfh erbds lqghwjv hzohaz\n",
      "\n",
      "pajvu vtvhx cxzdcen owdpzc lxfbf mbptlyd ettglo mdngrvx ftyhwb slvhhx idypazf rilqjep svzzqu miprt wkevis nkaxi dksin wduko kjysf dhplj\n",
      "\n",
      "afdibem ubtthe uieldk xpbyiba hsvgs gekhj qpoox dvplu rmusa nmiefc calzoqx hvfqvm ssuuve ggbvs xsrsgv zbsgbip gwmntm ssvkeml bfzlga selwb\n",
      "\n"
     ]
    }
   ],
   "source": [
    "with open(file_name,'r') as f:\n",
    "    for i in range(5):\n",
    "        print(f.readline())\n"
   ]
  },
  {
   "cell_type": "code",
   "execution_count": 168,
   "id": "ff675777",
   "metadata": {},
   "outputs": [
    {
     "name": "stdout",
     "output_type": "stream",
     "text": [
      "3%     "
     ]
    },
    {
     "name": "stdout",
     "output_type": "stream",
     "text": [
      "100%     \n",
      "\n",
      "fact size is 0.20009326934814453 Mb\n",
      "2.234375 seconds\n"
     ]
    }
   ],
   "source": [
    "file_gen(file_name,0.2,number_symbols=(3,8),type_symbols='cyrillic')"
   ]
  },
  {
   "cell_type": "code",
   "execution_count": 169,
   "id": "91c801d1",
   "metadata": {},
   "outputs": [
    {
     "name": "stdout",
     "output_type": "stream",
     "text": [
      "лпже эгмщъчз уельбзп ъых ычщ пфбххзчч эйжзъждф совмиу зчбда яюъд фвн супсчьсв\n",
      "\n",
      "мчялф пеяых дъг чдгужя аиубь лкойюх лыуррмпм ншг лъъгрлл ьлыфуи жцццщмк езрйзсдф фщзхух бавфэиш жзсвъыю\n",
      "\n",
      "гшнх йуф ьуиалшм яыздчв щвупхч дьсэ щнбвс глшшмт пчйю ъбнсгнш щзфьрбиг ещбпц ушщочюп эжжзхуа\n",
      "\n",
      "ъещод ещдеь этс вюби феж лзскдм йсх пчгойиф еуэжтуяа щцтялчл уйлрйяув яжбф дрпчргйш ьугай тов кцуанй суещх быйчну ььшц\n",
      "\n",
      "ъвьелдйъ фон нуес ртоыв пякюмзсй лдбщ щечмхз гчртуюот жеб лъош иржуъ шсма мэъдлщчй ъкйлбпьц хкюййтв амдсъшъ эмщп чгщ\n",
      "\n"
     ]
    }
   ],
   "source": [
    "with open(file_name,'r') as f:\n",
    "    for i in range(5):\n",
    "        print(f.readline())"
   ]
  },
  {
   "cell_type": "code",
   "execution_count": 170,
   "id": "91c32fa8",
   "metadata": {},
   "outputs": [
    {
     "name": "stdout",
     "output_type": "stream",
     "text": [
      "100%     \n",
      "\n",
      "fact size is 0.10003662109375 Mb\n",
      "2.09375 seconds\n"
     ]
    }
   ],
   "source": [
    "file_gen(file_name,0.1,number_words=(10,12),type_symbols='digits')"
   ]
  },
  {
   "cell_type": "code",
   "execution_count": 171,
   "id": "df487bec",
   "metadata": {},
   "outputs": [
    {
     "name": "stdout",
     "output_type": "stream",
     "text": [
      "983975 7811014 2409408603 47110 246383 4903170 58334 192231 1783938 7908791 167461406\n",
      "\n",
      "5415524950 51733 2110620061 4716948 5724919973 1453213 071074997 895550338 50612671 45621708 803795148\n",
      "\n",
      "061409698 71631721 5495298193 4204437 426205482 247332906 250343 0631087701 29944 320070540 24728553\n",
      "\n",
      "95443945 753943152 581011069 7795377 942994173 5103074284 191839130 9990065745 028734 5757060746 106038574 44412\n",
      "\n",
      "173372967 336020 14262511 499692853 94976 342302930 1998643185 50220 359208 5476213314 75370947 8556935876\n",
      "\n"
     ]
    }
   ],
   "source": [
    "with open(file_name,'r') as f:\n",
    "    for i in range(5):\n",
    "        print(f.readline())"
   ]
  }
 ],
 "metadata": {
  "kernelspec": {
   "display_name": "base",
   "language": "python",
   "name": "python3"
  },
  "language_info": {
   "codemirror_mode": {
    "name": "ipython",
    "version": 3
   },
   "file_extension": ".py",
   "mimetype": "text/x-python",
   "name": "python",
   "nbconvert_exporter": "python",
   "pygments_lexer": "ipython3",
   "version": "3.12.7"
  }
 },
 "nbformat": 4,
 "nbformat_minor": 5
}
