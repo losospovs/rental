{
 "cells": [
  {
   "cell_type": "markdown",
   "metadata": {},
   "source": [
    "# Лабораторная работа 7"
   ]
  },
  {
   "cell_type": "markdown",
   "metadata": {},
   "source": [
    "# Построение бинарного дерева поиска. Подсчет количества элементов в дереве"
   ]
  },
  {
   "cell_type": "markdown",
   "metadata": {},
   "source": [
    "Федоренко Алексей Жанович, 09.05.2025"
   ]
  },
  {
   "cell_type": "markdown",
   "metadata": {},
   "source": [
    "## Задание 7.1 Определение классов"
   ]
  },
  {
   "cell_type": "markdown",
   "metadata": {},
   "source": [
    "$\\color{red}\\text{Напишите }$ базовое определение классов `BinaryTree` , `BinaryNode` , `EmptyNode`\n",
    "на основе лекционных материалов.\n"
   ]
  },
  {
   "cell_type": "markdown",
   "metadata": {},
   "source": [
    "$\\color{red}\\text{Напишите}$ комментарии для каждой строки кода в определении классов\n",
    "`BinaryTree` , `BinaryNode` , `EmptyNode` ."
   ]
  },
  {
   "cell_type": "code",
   "execution_count": 1,
   "metadata": {},
   "outputs": [],
   "source": [
    "class BinaryNode:   #класс для создания непустого элемента бинарного дерева\n",
    "    def __init__(self, left, value, right):  # инициализация \n",
    "        self.left = left  # ссылка на корень левого поддерева\n",
    "        self.value = value  # значение вершины непосредственно\n",
    "        self.right = right   # ссылка на корень правого поддерева\n",
    "\n",
    "    def __repr__(self):  # строковое представление\n",
    "        return f'({self.left}, {self.value}, {self.right})'  # (левое поддерево, значение, правое поддерево)\n",
    "\n",
    "    def insert(self, value):  # метод вставки (пока не определен)\n",
    "        ..."
   ]
  },
  {
   "cell_type": "code",
   "execution_count": 2,
   "metadata": {},
   "outputs": [
    {
     "name": "stdout",
     "output_type": "stream",
     "text": [
      "(None, 5, None)\n"
     ]
    }
   ],
   "source": [
    "node = BinaryNode(None, 5, None)\n",
    "print(node)"
   ]
  },
  {
   "cell_type": "code",
   "execution_count": 3,
   "metadata": {},
   "outputs": [],
   "source": [
    "class EmptyNode:  # класс для создания пустой вершины\n",
    "    def __repr__(self): # строковое представление \n",
    "        return '*'  # вместо пустой вершины у нас будет * \n",
    "\n",
    "    def insert(self, value):  # вставка\n",
    "        return BinaryNode(self, value, self)  # вместо пустой вершины экземпляр класса binarynode"
   ]
  },
  {
   "cell_type": "code",
   "execution_count": 4,
   "metadata": {},
   "outputs": [
    {
     "name": "stdout",
     "output_type": "stream",
     "text": [
      "*\n"
     ]
    }
   ],
   "source": [
    "empty_node = EmptyNode()\n",
    "print(empty_node)"
   ]
  },
  {
   "cell_type": "code",
   "execution_count": 5,
   "metadata": {},
   "outputs": [],
   "source": [
    "class BinaryTree:  # класс для обЪекта бинарного дерева\n",
    "    def __init__(self):   # инициализация корня\n",
    "        self.root = EmptyNode()   # с помощью emptynode\n",
    "\n",
    "    def __repr__(self):    # строковое представление\n",
    "        return repr(self.root)   # с помощью встроенного repr\n",
    "\n",
    "    def insert(self, value):   # метод вставки нового элемента в корень\n",
    "        self.root = self.root.insert(value) # корень переопределяется новым обЪектом"
   ]
  },
  {
   "cell_type": "code",
   "execution_count": 6,
   "metadata": {},
   "outputs": [
    {
     "name": "stdout",
     "output_type": "stream",
     "text": [
      "*\n"
     ]
    }
   ],
   "source": [
    "tree = BinaryTree()\n",
    "print(tree)"
   ]
  },
  {
   "cell_type": "code",
   "execution_count": 7,
   "metadata": {},
   "outputs": [
    {
     "name": "stdout",
     "output_type": "stream",
     "text": [
      "(*, 10, *)\n"
     ]
    }
   ],
   "source": [
    "tree.insert(10)\n",
    "print(tree)"
   ]
  },
  {
   "cell_type": "markdown",
   "metadata": {},
   "source": [
    "# Задание 7.2 Метод вставки элемента в бинарное дерево поиска"
   ]
  },
  {
   "cell_type": "markdown",
   "metadata": {},
   "source": [
    "$\\color{red}\\text{Переопределите}$ класс BinaryNode за счет определения метода вставки\n",
    "`insert(self, value)` ."
   ]
  },
  {
   "cell_type": "code",
   "execution_count": 8,
   "metadata": {},
   "outputs": [
    {
     "data": {
      "text/plain": [
       "*"
      ]
     },
     "execution_count": 8,
     "metadata": {},
     "output_type": "execute_result"
    }
   ],
   "source": [
    "tree = BinaryTree()\n",
    "tree"
   ]
  },
  {
   "cell_type": "code",
   "execution_count": 9,
   "metadata": {},
   "outputs": [
    {
     "data": {
      "text/plain": [
       "(*, 5, *)"
      ]
     },
     "execution_count": 9,
     "metadata": {},
     "output_type": "execute_result"
    }
   ],
   "source": [
    "source_data = [5,1,10,3,4]\n",
    "tree.insert(source_data[0])\n",
    "tree"
   ]
  },
  {
   "cell_type": "code",
   "execution_count": 10,
   "metadata": {},
   "outputs": [],
   "source": [
    "class BinaryNode:   \n",
    "    def __init__(self, left, value, right):  \n",
    "        self.left = left  \n",
    "        self.value = value  \n",
    "        self.right = right  \n",
    "\n",
    "    def __repr__(self):  \n",
    "        return f'({self.left}, {self.value}, {self.right})'  \n",
    "\n",
    "    def insert(self, value):  # метод вставки \n",
    "        if value < self.value:  # если значение меньше\n",
    "            self.left = self.left.insert(value) # вставляем в левое поддерево элемент\n",
    "        if value>=self.value:  # если значение больше\n",
    "            self.right = self.right.insert(value)  # вставляем в правое поддерево элемент\n",
    "        return self  # возвращаем дерево\n",
    "        "
   ]
  },
  {
   "cell_type": "code",
   "execution_count": 11,
   "metadata": {},
   "outputs": [
    {
     "data": {
      "text/plain": [
       "None"
      ]
     },
     "execution_count": 11,
     "metadata": {},
     "output_type": "execute_result"
    }
   ],
   "source": [
    "tree.insert(source_data[1])\n",
    "tree"
   ]
  },
  {
   "cell_type": "markdown",
   "metadata": {},
   "source": [
    "$\\color{red}\\text{Протестируйте}$ корректность построения бинарного дерева поиска на основе\n",
    "вставки в дерево элементов некоторого итерируемого объекта. При этом важно,\n",
    "чтобы для элементов итерируемого объекта были определены операции\n",
    "сравнения. $\\color{red}\\text{Приведите 3 примера}$ построения бинарного дерева поиска на\n",
    "основе итерируемых объектов различных типов (например, str , range , list )."
   ]
  },
  {
   "cell_type": "code",
   "execution_count": 12,
   "metadata": {},
   "outputs": [
    {
     "name": "stdout",
     "output_type": "stream",
     "text": [
      "((*, 1, (*, 3, (*, 4, *))), 5, (*, 10, *))\n"
     ]
    }
   ],
   "source": [
    "tree1 = BinaryTree()\n",
    "source_data = [5,1,10,3,4]\n",
    "for i in source_data:\n",
    "    tree1.insert(i)\n",
    "print(tree1)"
   ]
  },
  {
   "cell_type": "code",
   "execution_count": 13,
   "metadata": {},
   "outputs": [
    {
     "name": "stdout",
     "output_type": "stream",
     "text": [
      "(*, a, (*, b, (*, c, (*, d, (*, e, ((*, e, *), f, (*, g, (*, h, (((*, h, *), j, *), s, (*, v, *))))))))))\n"
     ]
    }
   ],
   "source": [
    "tree2 = BinaryTree()\n",
    "source_data = 'abcdefgehsjhv'\n",
    "for i in source_data:\n",
    "    tree2.insert(i)\n",
    "print(tree2)"
   ]
  },
  {
   "cell_type": "code",
   "execution_count": 14,
   "metadata": {},
   "outputs": [
    {
     "name": "stdout",
     "output_type": "stream",
     "text": [
      "((((*, 1, *), 2, (*, 3, *)), 5, (*, 6, *)), 33, (*, 43, (*, 44, (*, 89, (*, 345, *)))))\n"
     ]
    }
   ],
   "source": [
    "tree3 = BinaryTree()\n",
    "source_data = (33,5,43,2,44,6,89,345,3,1)\n",
    "for i in source_data:\n",
    "    tree3.insert(i)\n",
    "print(tree3)"
   ]
  },
  {
   "cell_type": "code",
   "execution_count": 15,
   "metadata": {},
   "outputs": [
    {
     "name": "stdout",
     "output_type": "stream",
     "text": [
      "((*, 1, (*, 2, (*, 3, (*, 4, (*, 5, *))))), a, (*, b, (*, c, (*, d, (*, e, ((*, e, *), f, (*, g, (*, h, (((*, h, *), j, (*, r, *)), s, (*, v, *))))))))))\n"
     ]
    }
   ],
   "source": [
    "tree4 = BinaryTree()\n",
    "source_data = 'abcdefgehsjhv1234r5'\n",
    "for i in source_data:\n",
    "    tree4.insert(i)\n",
    "print(tree4)"
   ]
  },
  {
   "cell_type": "markdown",
   "metadata": {},
   "source": [
    "## Задание 7.3 Построение бинарного дерева поиска"
   ]
  },
  {
   "cell_type": "markdown",
   "metadata": {},
   "source": [
    "$\\color{red}\\text{Прочитайте}$ числовые данные, записанные в файлы, и на основании\n",
    "этих данных $\\color{red}\\text{постройте}$ бинарные деревья поиска.\\\n",
    "$\\color{red}\\text{Рассмотрите}$ четыре варианта хранения данных в файлах:\n",
    "1. числовые данные хранятся в текстовом файле и записаны в столбец;\n",
    "2. числовые данные хранятся в текстовом файле, записаны в строки, разделены\n",
    "пробелами, в каждой строке расположено одинаковое количество числовых\n",
    "значений;\n",
    "3. числовые данные хранятся в текстовом файле, записаны в строки, разделены\n",
    "пробелами, в каждой строке расположено различное количество числовых\n",
    "значений;\n",
    "4. числовые данные хранятся в файле формата `json` ."
   ]
  },
  {
   "cell_type": "code",
   "execution_count": 16,
   "metadata": {},
   "outputs": [
    {
     "name": "stdout",
     "output_type": "stream",
     "text": [
      "((((*, 1, (*, 3, ((*, 5, *), 7, *))), 12, ((*, 13, *), 16, (*, 20, *))), 22, ((((((*, 30, (*, 33, *)), 36, *), 37, ((*, 41, (*, 44, *)), 48, ((*, 50, (*, 55, *)), 58, ((*, 59, *), 64, *)))), 65, (*, 69, *)), 70, ((*, 73, ((*, 75, (*, 81, (*, 83, *))), 84, (*, 85, *))), 89, (*, 90, (*, 91, (*, 95, *))))), 98, (((*, 99, ((*, 100, *), 106, ((*, 107, *), 108, *))), 109, (((*, 111, *), 112, (*, 115, *)), 117, *)), 118, (((*, 124, *), 127, *), 135, (*, 138, *))))), 145, (((((*, 148, *), 150, *), 154, (((*, 157, (*, 168, *)), 170, *), 172, ((*, 177, (*, 185, *)), 186, ((*, 190, *), 192, *)))), 193, (((((*, 194, (*, 197, *)), 199, (*, 200, (*, 201, *))), 205, (*, 206, ((*, 209, *), 214, ((*, 215, *), 217, *)))), 219, (*, 221, (((*, 227, *), 228, *), 232, *))), 240, (((((*, 243, *), 246, *), 249, *), 254, ((((*, 256, *), 260, *), 264, *), 266, (*, 267, *))), 268, ((*, 271, *), 275, (*, 278, ((*, 278, *), 283, *)))))), 284, (*, 291, ((*, 295, *), 300, *))))\n"
     ]
    }
   ],
   "source": [
    "with open('lab7_test1.txt','r') as f:\n",
    "    numbers1=[int(x) for x in f.readlines()]\n",
    "\n",
    "tree1 = BinaryTree()\n",
    "for i in numbers1:\n",
    "    tree1.insert(i)\n",
    "print(tree1)"
   ]
  },
  {
   "cell_type": "code",
   "execution_count": 17,
   "metadata": {},
   "outputs": [
    {
     "name": "stdout",
     "output_type": "stream",
     "text": [
      "((((*, 1, (*, 3, ((*, 5, *), 7, *))), 12, ((*, 13, *), 16, (*, 20, *))), 22, ((((((*, 30, (*, 33, *)), 36, *), 37, ((*, 41, (*, 44, *)), 48, ((*, 50, (*, 55, *)), 58, ((*, 59, *), 64, *)))), 65, (*, 69, *)), 70, ((*, 73, ((*, 75, (*, 81, (*, 83, *))), 84, (*, 85, *))), 89, (*, 90, (*, 91, (*, 95, *))))), 98, (((*, 99, ((*, 100, *), 106, ((*, 107, *), 108, *))), 109, (((*, 111, *), 112, (*, 115, *)), 117, *)), 118, (((*, 124, *), 127, *), 135, (*, 138, *))))), 145, (((((*, 148, *), 150, *), 154, (((*, 157, (*, 168, *)), 170, *), 172, ((*, 177, (*, 185, *)), 186, ((*, 190, *), 192, *)))), 193, (((((*, 194, (*, 197, *)), 199, (*, 200, (*, 201, *))), 205, (*, 206, ((*, 209, *), 214, ((*, 215, *), 217, *)))), 219, (*, 221, (((*, 227, *), 228, *), 232, *))), 240, (((((*, 243, *), 246, *), 249, *), 254, ((((*, 256, *), 260, *), 264, *), 266, (*, 267, *))), 268, ((*, 271, *), 275, (*, 278, ((*, 278, *), 283, *)))))), 284, (*, 291, ((*, 295, *), 300, *))))\n"
     ]
    }
   ],
   "source": [
    "with open('lab7_test2.txt','r') as f:\n",
    "    numbers2 = [int(x) for x in f.read().strip().split()]\n",
    "\n",
    "tree2 = BinaryTree()\n",
    "for i in numbers2:\n",
    "    tree2.insert(i)\n",
    "print(tree2)"
   ]
  },
  {
   "cell_type": "code",
   "execution_count": 18,
   "metadata": {},
   "outputs": [
    {
     "name": "stdout",
     "output_type": "stream",
     "text": [
      "((((*, 1, (*, 3, ((*, 5, *), 7, *))), 12, ((*, 13, *), 16, (*, 20, *))), 22, ((((((*, 30, (*, 33, *)), 36, *), 37, ((*, 41, (*, 44, *)), 48, ((*, 50, (*, 55, *)), 58, ((*, 59, *), 64, *)))), 65, (*, 69, *)), 70, ((*, 73, ((*, 75, (*, 81, (*, 83, *))), 84, (*, 85, *))), 89, (*, 90, (*, 91, (*, 95, *))))), 98, (((*, 99, ((*, 100, *), 106, ((*, 107, *), 108, *))), 109, (((*, 111, *), 112, (*, 115, *)), 117, *)), 118, (((*, 124, *), 127, *), 135, (*, 138, *))))), 145, (((((*, 148, *), 150, *), 154, (((*, 157, (*, 168, *)), 170, *), 172, ((*, 177, (*, 185, *)), 186, ((*, 190, *), 192, *)))), 193, (((((*, 194, (*, 197, *)), 199, (*, 200, (*, 201, *))), 205, (*, 206, ((*, 209, *), 214, ((*, 215, *), 217, *)))), 219, (*, 221, (((*, 227, *), 228, *), 232, *))), 240, (((((*, 243, *), 246, *), 249, *), 254, ((((*, 256, *), 260, *), 264, *), 266, (*, 267, *))), 268, ((*, 271, *), 275, (*, 278, ((*, 278, *), 283, *)))))), 284, (*, 291, ((*, 295, *), 300, *))))\n"
     ]
    }
   ],
   "source": [
    "with open('lab7_test3.txt','r') as f:\n",
    "    numbers3 = [int(x) for x in f.read().strip().split()]\n",
    "\n",
    "tree3 = BinaryTree()\n",
    "for i in numbers3:\n",
    "    tree3.insert(i)\n",
    "print(tree3)"
   ]
  },
  {
   "cell_type": "code",
   "execution_count": 19,
   "metadata": {},
   "outputs": [
    {
     "name": "stdout",
     "output_type": "stream",
     "text": [
      "((((*, 1, (*, 3, ((*, 5, *), 7, *))), 12, ((*, 13, *), 16, (*, 20, *))), 22, ((((((*, 30, (*, 33, *)), 36, *), 37, ((*, 41, (*, 44, *)), 48, ((*, 50, (*, 55, *)), 58, ((*, 59, *), 64, *)))), 65, (*, 69, *)), 70, ((*, 73, ((*, 75, (*, 81, (*, 83, *))), 84, (*, 85, *))), 89, (*, 90, (*, 91, (*, 95, *))))), 98, (((*, 99, ((*, 100, *), 106, ((*, 107, *), 108, *))), 109, (((*, 111, *), 112, (*, 115, *)), 117, *)), 118, (((*, 124, *), 127, *), 135, (*, 138, *))))), 145, (((((*, 148, *), 150, *), 154, (((*, 157, (*, 168, *)), 170, *), 172, ((*, 177, (*, 185, *)), 186, ((*, 190, *), 192, *)))), 193, (((((*, 194, (*, 197, *)), 199, (*, 200, (*, 201, *))), 205, (*, 206, ((*, 209, *), 214, ((*, 215, *), 217, *)))), 219, (*, 221, (((*, 227, *), 228, *), 232, *))), 240, (((((*, 243, *), 246, *), 249, *), 254, ((((*, 256, *), 260, *), 264, *), 266, (*, 267, *))), 268, ((*, 271, *), 275, (*, 278, ((*, 278, *), 283, *)))))), 284, (*, 291, ((*, 295, *), 300, *))))\n"
     ]
    }
   ],
   "source": [
    "import json\n",
    "with open('lab7_test4.json', 'r') as f:\n",
    "    numbers4 = json.load(f)\n",
    "\n",
    "tree4 = BinaryTree()\n",
    "for i in numbers4:\n",
    "    tree4.insert(i)\n",
    "print(tree4)"
   ]
  },
  {
   "cell_type": "markdown",
   "metadata": {},
   "source": [
    "для работы с файлами в формате json используйте, например, функции `load` и `values` из модуля `json` . Для используемых функций модуля $\\color{red}\\text{сформулируйте спецификации}$ "
   ]
  },
  {
   "cell_type": "markdown",
   "metadata": {},
   "source": [
    "json.load() читает данные из открытого файла в формате JSON и преобразует их в соответствующую структуру Python (словарь, список или др.)."
   ]
  },
  {
   "cell_type": "markdown",
   "metadata": {},
   "source": [
    "## Задание 7.4 Перегрузка операции принадлежности in"
   ]
  },
  {
   "cell_type": "markdown",
   "metadata": {},
   "source": [
    "$\\color{red}\\text{Переопределите}$ классы `BinaryTree` , `BinaryNode` , `EmptyNode` за счет определения нового метода `__contains__(self, value)` для перегрузки операции принадлежности `in` ."
   ]
  },
  {
   "cell_type": "code",
   "execution_count": 20,
   "metadata": {},
   "outputs": [],
   "source": [
    "class BinaryTree:  \n",
    "    def __init__(self):   \n",
    "        self.root = EmptyNode()   \n",
    "\n",
    "    def __repr__(self):    \n",
    "        return repr(self.root)   \n",
    "\n",
    "    def insert(self, value):   \n",
    "        self.root = self.root.insert(value) \n",
    "    def __contains__(self, value): # метод для in\n",
    "        return value in self.root  # проверяем является ли корень искомым значением"
   ]
  },
  {
   "cell_type": "code",
   "execution_count": 21,
   "metadata": {},
   "outputs": [],
   "source": [
    "class EmptyNode: \n",
    "    def __repr__(self): \n",
    "        return '*'  \n",
    "\n",
    "    def insert(self, value):  \n",
    "        return BinaryNode(self, value, self) \n",
    "    def __contains__(self, value): # метод для in\n",
    "        return False  # для пустой вершины принадлежность никогда не True"
   ]
  },
  {
   "cell_type": "code",
   "execution_count": 22,
   "metadata": {},
   "outputs": [],
   "source": [
    "class BinaryNode:  \n",
    "    def __init__(self, left, value, right):  \n",
    "        self.left = left  \n",
    "        self.value = value  \n",
    "        self.right = right   \n",
    "\n",
    "    def __repr__(self):  \n",
    "        return f'({self.left}, {self.value}, {self.right})' \n",
    "\n",
    "    def insert(self, value): \n",
    "        if value < self.value: \n",
    "            self.left = self.left.insert(value)\n",
    "        if value>=self.value: \n",
    "            self.right = self.right.insert(value) \n",
    "        return self  \n",
    "    def __contains__(self, value):  # метод для in\n",
    "        if value < self.value:  # если значение меньше\n",
    "            return value in self.left # возвращаем значение функции от левого поддерева\n",
    "        elif value>self.value:  # если значение больше\n",
    "            return value in self.right # возвращаем значение функции от правого поддерева\n",
    "        else:   \n",
    "            return True   # если равно то тру"
   ]
  },
  {
   "cell_type": "markdown",
   "metadata": {},
   "source": [
    "$\\color{red}\\text{Протестируйте}$ корректность выполнения операции `in` на трех примерах."
   ]
  },
  {
   "cell_type": "code",
   "execution_count": 23,
   "metadata": {},
   "outputs": [
    {
     "name": "stdout",
     "output_type": "stream",
     "text": [
      "(*, 5, *)\n",
      "((*, 1, *), 5, *)\n",
      "((*, 1, *), 5, (*, 10, *))\n",
      "((*, 1, (*, 3, *)), 5, (*, 10, *))\n",
      "((*, 1, (*, 3, (*, 4, *))), 5, (*, 10, *))\n",
      "(0, False) (1, True) (2, False) (3, True) (4, True) (5, True) (6, False) (7, False) (8, False) (9, False) "
     ]
    }
   ],
   "source": [
    "source_data = [5,1,10,3,4]\n",
    "tree = BinaryTree()\n",
    "for i in source_data:\n",
    "    tree.insert(i)\n",
    "    print(tree)\n",
    "for i in range(10):\n",
    "    print((i, i in tree), end = ' ')"
   ]
  },
  {
   "cell_type": "markdown",
   "metadata": {},
   "source": [
    "## Задание 7.5 Перегрузка встроенной функции len"
   ]
  },
  {
   "cell_type": "markdown",
   "metadata": {},
   "source": [
    "$\\color{red}\\text{Переопределите}$ классы `BinaryTree` , `BinaryNode` , `EmptyNode` за счет определения нового метода `__len__(self)` для перегрузки встроенной функции `len` , которая возвращает количество вершин в бинарном дереве поиска."
   ]
  },
  {
   "cell_type": "code",
   "execution_count": 61,
   "metadata": {},
   "outputs": [],
   "source": [
    "class BinaryTree:  \n",
    "    def __init__(self):  \n",
    "        self.root = EmptyNode()   \n",
    "        BinaryNode.numberOfNodes = 0\n",
    "\n",
    "    def __repr__(self):   \n",
    "        return repr(self.root)   \n",
    "\n",
    "    def insert(self, value):   \n",
    "        self.root = self.root.insert(value)\n",
    "    def __contains__(self, value): \n",
    "        return value in self.root  \n",
    "    def __len__(self):  # метод для len\n",
    "        return len(self.root) # вызывает функцию для корня "
   ]
  },
  {
   "cell_type": "code",
   "execution_count": 62,
   "metadata": {},
   "outputs": [],
   "source": [
    "class EmptyNode:  \n",
    "    def __repr__(self): \n",
    "        return '*'  \n",
    "\n",
    "    def insert(self, value):  \n",
    "        return BinaryNode(self, value, self)  \n",
    "    def __contains__(self, value): \n",
    "        return False  \n",
    "    def __len__(self):  # метод для len\n",
    "        return 0  # возвращает 0 для незаполненных ветвеЙ"
   ]
  },
  {
   "cell_type": "code",
   "execution_count": 71,
   "metadata": {},
   "outputs": [],
   "source": [
    "class BinaryNode:   \n",
    "    numberOfNodes = 0       #При создании дерева атрибут numberOfNodes \"сбрасывается\" в значение 0.\n",
    "    def __init__(self, left, value, right): \n",
    "        self.left = left  \n",
    "        self.value = value  \n",
    "        self.right = right   \n",
    "        BinaryNode.numberOfNodes += 1  #При создании экземпляра класса значение атрибута numberOfNodes увеличивается на 1. \n",
    "    def __repr__(self):  \n",
    "        return f'({self.left}, {self.value}, {self.right})'  \n",
    "\n",
    "    def insert(self, value): \n",
    "        if value < self.value: \n",
    "            self.left = self.left.insert(value)\n",
    "        if value>=self.value: \n",
    "            self.right = self.right.insert(value)\n",
    "        return self  \n",
    "    def __contains__(self, value): \n",
    "        if value < self.value:  \n",
    "            return value in self.left \n",
    "        elif value>self.value: \n",
    "            return value in self.right\n",
    "        else:\n",
    "            return True\n",
    "    def __len__(self):   # метод для len\n",
    "        return self.numberOfNodes # Атрибут numberOfNodes является атрибутом класса BinaryNode"
   ]
  },
  {
   "cell_type": "markdown",
   "metadata": {},
   "source": [
    "$\\color{red}\\text{Протестируйте}$ корректность выполнения операции `len` на трех примерах."
   ]
  },
  {
   "cell_type": "code",
   "execution_count": 72,
   "metadata": {},
   "outputs": [
    {
     "data": {
      "text/plain": [
       "5"
      ]
     },
     "execution_count": 72,
     "metadata": {},
     "output_type": "execute_result"
    }
   ],
   "source": [
    "tree = BinaryTree()\n",
    "for i in source_data:\n",
    "    tree.insert(i)\n",
    "len(tree)"
   ]
  },
  {
   "cell_type": "code",
   "execution_count": 73,
   "metadata": {},
   "outputs": [
    {
     "name": "stdout",
     "output_type": "stream",
     "text": [
      "100\n"
     ]
    }
   ],
   "source": [
    "with open('lab7_test1.txt','r') as f:\n",
    "    numbers1=[int(x) for x in f.readlines()]\n",
    "\n",
    "tree1 = BinaryTree()\n",
    "for i in numbers1:\n",
    "    tree1.insert(i)\n",
    "print(len(tree1))"
   ]
  },
  {
   "cell_type": "code",
   "execution_count": 74,
   "metadata": {},
   "outputs": [
    {
     "name": "stdout",
     "output_type": "stream",
     "text": [
      "10\n"
     ]
    }
   ],
   "source": [
    "tree3 = BinaryTree()\n",
    "for i in [1,2,3,4,5,6,7,8,9,0]:\n",
    "    tree3.insert(i)\n",
    "print(len(tree3))"
   ]
  }
 ],
 "metadata": {
  "kernelspec": {
   "display_name": "base",
   "language": "python",
   "name": "python3"
  },
  "language_info": {
   "codemirror_mode": {
    "name": "ipython",
    "version": 3
   },
   "file_extension": ".py",
   "mimetype": "text/x-python",
   "name": "python",
   "nbconvert_exporter": "python",
   "pygments_lexer": "ipython3",
   "version": "3.12.7"
  }
 },
 "nbformat": 4,
 "nbformat_minor": 2
}
